{
 "cells": [
  {
   "cell_type": "markdown",
   "id": "9952fc18-de02-4e1b-9fae-4ec508c49b87",
   "metadata": {},
   "source": [
    "# Via pyDataverse"
   ]
  },
  {
   "cell_type": "markdown",
   "id": "33d4c052-d495-453f-908a-e2a4fb9d8edb",
   "metadata": {},
   "source": [
    "Let's also try to use the `pyDataverse` package for downloading data. \n",
    "\n",
    "See: https://pydataverse.readthedocs.io/en/latest/user/basic-usage.html#download-and-save-a-dataset-to-disk"
   ]
  },
  {
   "cell_type": "markdown",
   "id": "14a24743-1461-4b42-962b-01b030abecf6",
   "metadata": {
    "execution": {
     "iopub.execute_input": "2025-03-31T14:44:13.554019Z",
     "iopub.status.busy": "2025-03-31T14:44:13.553668Z",
     "iopub.status.idle": "2025-03-31T14:44:16.223798Z",
     "shell.execute_reply": "2025-03-31T14:44:16.223044Z",
     "shell.execute_reply.started": "2025-03-31T14:44:13.553986Z"
    }
   },
   "source": [
    "%pip install -U pyDataverse"
   ]
  },
  {
   "cell_type": "code",
   "execution_count": 2,
   "id": "a61b70e4-6453-4c37-9091-5527c2dd2682",
   "metadata": {
    "execution": {
     "iopub.execute_input": "2025-03-31T14:45:35.601768Z",
     "iopub.status.busy": "2025-03-31T14:45:35.601496Z",
     "iopub.status.idle": "2025-03-31T14:45:36.287966Z",
     "shell.execute_reply": "2025-03-31T14:45:36.287388Z",
     "shell.execute_reply.started": "2025-03-31T14:45:35.601740Z"
    }
   },
   "outputs": [],
   "source": [
    "from pyDataverse.api import NativeApi, DataAccessApi\n",
    "from pyDataverse.models import Dataverse "
   ]
  },
  {
   "cell_type": "code",
   "execution_count": 22,
   "id": "f2fccd2c-f6a1-4b5d-9c1c-2efe5eb95739",
   "metadata": {
    "execution": {
     "iopub.execute_input": "2025-03-31T15:08:19.829920Z",
     "iopub.status.busy": "2025-03-31T15:08:19.829770Z",
     "iopub.status.idle": "2025-03-31T15:08:19.833013Z",
     "shell.execute_reply": "2025-03-31T15:08:19.832527Z",
     "shell.execute_reply.started": "2025-03-31T15:08:19.829910Z"
    }
   },
   "outputs": [],
   "source": [
    "#base_url = 'https://dataverse.harvard.ed'\n",
    "base_url = 'https://dataverse.nl'\n",
    "api = NativeApi(base_url, api_version='v1')\n",
    "data_api = DataAccessApi(base_url)"
   ]
  },
  {
   "cell_type": "code",
   "execution_count": 23,
   "id": "f2dc7e1a-4ea9-4c03-a07b-140f0edeae81",
   "metadata": {
    "execution": {
     "iopub.execute_input": "2025-03-31T15:08:21.287359Z",
     "iopub.status.busy": "2025-03-31T15:08:21.286785Z",
     "iopub.status.idle": "2025-03-31T15:08:21.419869Z",
     "shell.execute_reply": "2025-03-31T15:08:21.419251Z",
     "shell.execute_reply.started": "2025-03-31T15:08:21.287338Z"
    }
   },
   "outputs": [],
   "source": [
    "#DOI = \"doi:10.7910/DVN/KBHLOD\"\n",
    "DOI = 'doi:10.34894/MSBW8A'\n",
    "dataset = api.get_dataset(DOI)\n"
   ]
  },
  {
   "cell_type": "code",
   "execution_count": 24,
   "id": "196f541e-a5f0-4a48-a8c5-d081617bf4ca",
   "metadata": {
    "execution": {
     "iopub.execute_input": "2025-03-31T15:08:22.213698Z",
     "iopub.status.busy": "2025-03-31T15:08:22.213457Z",
     "iopub.status.idle": "2025-03-31T15:08:22.216778Z",
     "shell.execute_reply": "2025-03-31T15:08:22.216273Z",
     "shell.execute_reply.started": "2025-03-31T15:08:22.213679Z"
    }
   },
   "outputs": [],
   "source": [
    "files_list = dataset.json()['data']['latestVersion']['files']"
   ]
  },
  {
   "cell_type": "code",
   "execution_count": 25,
   "id": "88d3d276-45e6-4ab8-8f33-2cafa86c9672",
   "metadata": {
    "execution": {
     "iopub.execute_input": "2025-03-31T15:08:23.253660Z",
     "iopub.status.busy": "2025-03-31T15:08:23.253090Z",
     "iopub.status.idle": "2025-03-31T15:08:23.257881Z",
     "shell.execute_reply": "2025-03-31T15:08:23.257366Z",
     "shell.execute_reply.started": "2025-03-31T15:08:23.253633Z"
    }
   },
   "outputs": [
    {
     "data": {
      "text/plain": [
       "[{'description': 'Lab logbook',\n",
       "  'label': '2016003 Dorestad D16 Logboek.pdf',\n",
       "  'restricted': False,\n",
       "  'version': 1,\n",
       "  'datasetVersionId': 29311,\n",
       "  'dataFile': {'id': 376393,\n",
       "   'persistentId': '',\n",
       "   'filename': '2016003 Dorestad D16 Logboek.pdf',\n",
       "   'contentType': 'application/pdf',\n",
       "   'friendlyType': 'Adobe PDF',\n",
       "   'filesize': 2951413,\n",
       "   'description': 'Lab logbook',\n",
       "   'storageIdentifier': 'file://1894e4bf037-544cfdd49456',\n",
       "   'rootDataFileId': -1,\n",
       "   'md5': '3ceeb18fe19526d0823e4128c805f14c',\n",
       "   'checksum': {'type': 'MD5', 'value': '3ceeb18fe19526d0823e4128c805f14c'},\n",
       "   'tabularData': False,\n",
       "   'creationDate': '2023-07-13',\n",
       "   'publicationDate': '2023-07-13',\n",
       "   'fileAccessRequest': False}},\n",
       " {'description': 'Measurement series in stacked Heidelberg format',\n",
       "  'label': '2016003 Dorestad meetreeksen 1 tot en met 10.fh',\n",
       "  'restricted': False,\n",
       "  'version': 1,\n",
       "  'datasetVersionId': 29311,\n",
       "  'dataFile': {'id': 376394,\n",
       "   'persistentId': '',\n",
       "   'filename': '2016003 Dorestad meetreeksen 1 tot en met 10.fh',\n",
       "   'contentType': 'image/x-freehand',\n",
       "   'friendlyType': 'image/x-freehand',\n",
       "   'filesize': 8126,\n",
       "   'description': 'Measurement series in stacked Heidelberg format',\n",
       "   'storageIdentifier': 'file://1894e4bf090-6cca7bcd1ecf',\n",
       "   'rootDataFileId': -1,\n",
       "   'md5': '056b4d46e62cde4201dac14bf9785975',\n",
       "   'checksum': {'type': 'MD5', 'value': '056b4d46e62cde4201dac14bf9785975'},\n",
       "   'tabularData': False,\n",
       "   'creationDate': '2023-07-13',\n",
       "   'publicationDate': '2023-07-13',\n",
       "   'fileAccessRequest': False}}]"
      ]
     },
     "execution_count": 25,
     "metadata": {},
     "output_type": "execute_result"
    }
   ],
   "source": [
    "files_list"
   ]
  },
  {
   "cell_type": "code",
   "execution_count": 15,
   "id": "14c4f2a8-b296-4da8-863c-b50832a9a11c",
   "metadata": {
    "execution": {
     "iopub.execute_input": "2025-03-31T15:00:33.288978Z",
     "iopub.status.busy": "2025-03-31T15:00:33.288737Z",
     "iopub.status.idle": "2025-03-31T15:00:33.463662Z",
     "shell.execute_reply": "2025-03-31T15:00:33.463075Z",
     "shell.execute_reply.started": "2025-03-31T15:00:33.288958Z"
    }
   },
   "outputs": [
    {
     "name": "stdout",
     "output_type": "stream",
     "text": [
      "File name 2016003 Dorestad D16 Logboek.pdf, id 376393\n",
      "File name 2016003 Dorestad meetreeksen 1 tot en met 10.fh, id 376394\n"
     ]
    }
   ],
   "source": [
    "for file in files_list:\n",
    "    filename = file[\"dataFile\"][\"filename\"]\n",
    "    file_id = file[\"dataFile\"][\"id\"]\n",
    "    print(\"File name {}, id {}\".format(filename, file_id))\n",
    "    response = data_api.get_datafile(file_id)\n",
    "    with open(filename, \"wb\") as f:\n",
    "        f.write(response.content)"
   ]
  },
  {
   "cell_type": "markdown",
   "id": "26d9eb13-c6cb-4aa8-a371-a2a469bbe93a",
   "metadata": {},
   "source": [
    "Almost there. Unfortunately these files are just text files that contain an error message: \n",
    "\n",
    "    {\"status\":\"ERROR\",\"code\":404,\"message\":\"API endpoint does not exist on this server. Please check your code for typos, or consult our API guide at http://guides.dataverse.org.\",\"requestUrl\":\"https://dataverse.nl/api/v1/access/datafile/:persistentId/?persistentId=376393\",\"requestMethod\":\"GET\"}"
   ]
  },
  {
   "cell_type": "code",
   "execution_count": 27,
   "id": "ec1fbc7a-efa6-4499-9c88-ce7b2e2a5d84",
   "metadata": {
    "execution": {
     "iopub.execute_input": "2025-03-31T15:11:54.874520Z",
     "iopub.status.busy": "2025-03-31T15:11:54.874274Z",
     "iopub.status.idle": "2025-03-31T15:11:54.877067Z",
     "shell.execute_reply": "2025-03-31T15:11:54.876630Z",
     "shell.execute_reply.started": "2025-03-31T15:11:54.874499Z"
    }
   },
   "outputs": [],
   "source": [
    "#data_api??"
   ]
  },
  {
   "cell_type": "code",
   "execution_count": null,
   "id": "226731d8-80d5-4d08-a7b1-b0d1fcd60981",
   "metadata": {},
   "outputs": [],
   "source": []
  }
 ],
 "metadata": {
  "kernelspec": {
   "display_name": "Python 3 (ipykernel)",
   "language": "python",
   "name": "python3"
  },
  "language_info": {
   "codemirror_mode": {
    "name": "ipython",
    "version": 3
   },
   "file_extension": ".py",
   "mimetype": "text/x-python",
   "name": "python",
   "nbconvert_exporter": "python",
   "pygments_lexer": "ipython3",
   "version": "3.12.5"
  },
  "widgets": {
   "application/vnd.jupyter.widget-state+json": {
    "state": {},
    "version_major": 2,
    "version_minor": 0
   }
  }
 },
 "nbformat": 4,
 "nbformat_minor": 5
}
