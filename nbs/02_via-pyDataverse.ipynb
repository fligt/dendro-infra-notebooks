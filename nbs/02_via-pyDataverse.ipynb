{
 "cells": [
  {
   "cell_type": "markdown",
   "id": "9952fc18-de02-4e1b-9fae-4ec508c49b87",
   "metadata": {},
   "source": [
    "# Dataverse search API"
   ]
  },
  {
   "cell_type": "markdown",
   "id": "71bd1540-cb92-4ec1-8a8b-74de387fb4f2",
   "metadata": {},
   "source": [
    "*As a next step, we need to learn how to query the complete DCCD dataverse...* "
   ]
  },
  {
   "cell_type": "markdown",
   "id": "b7bb272a-cbee-4b6a-9e5f-019965df34b7",
   "metadata": {},
   "source": [
    "## Listing all records"
   ]
  },
  {
   "cell_type": "markdown",
   "id": "d77f7f36-165a-412b-96eb-5a092a2553ab",
   "metadata": {},
   "source": [
    "As explained by Laura the example command to query all dendro records, say between 1400-1800 with `curl` is this terminal command below. The json output can be captured like so in the `output.txt` file. \n",
    "\n",
    "    $ curl \"https://dataverse.nl/api/search?q=dccd-periodEnd%3A%5B1400%20TO%201800%5D&start=0&per_page=100&subtree=dccd&type=dataset&metadata_fields=dccd:*\" | jq > output.txt "
   ]
  },
  {
   "cell_type": "markdown",
   "id": "5f718731-a268-4f2f-88d1-e67798b734f7",
   "metadata": {},
   "source": [
    "This works well, and provides meta data for the the first 100 records. An alternative to the `curl` command line tool might be the Python search API.  \n",
    "\n",
    "Let's explore the Search API: https://guides.dataverse.org/en/6.0/api/search.html. At the bottom of this page we find an iteration example: "
   ]
  },
  {
   "cell_type": "markdown",
   "id": "3df4817b-5e43-48e4-a2e1-d387554e8218",
   "metadata": {},
   "source": [
    "```python\n",
    "#!/usr/bin/env python\n",
    "import urllib2\n",
    "import json\n",
    "base = 'https://demo.dataverse.org'\n",
    "rows = 10\n",
    "start = 0\n",
    "page = 1\n",
    "condition = True # emulate do-while\n",
    "while (condition):\n",
    "    url = base + '/api/search?q=*' + \"&start=\" + str(start)\n",
    "    data = json.load(urllib2.urlopen(url))\n",
    "    total = data['data']['total_count']\n",
    "    print \"=== Page\", page, \"===\"\n",
    "    print \"start:\", start, \" total:\", total\n",
    "    for i in data['data']['items']:\n",
    "        print \"- \", i['name'], \"(\" + i['type'] + \")\"\n",
    "    start = start + rows\n",
    "    page += 1\n",
    "    condition = start < total\n",
    "```"
   ]
  },
  {
   "cell_type": "code",
   "execution_count": 2,
   "id": "e7df9d86-e7ea-4202-addc-28188901db67",
   "metadata": {
    "execution": {
     "iopub.execute_input": "2025-04-01T12:23:52.194530Z",
     "iopub.status.busy": "2025-04-01T12:23:52.194290Z",
     "iopub.status.idle": "2025-04-01T12:23:52.346741Z",
     "shell.execute_reply": "2025-04-01T12:23:52.346315Z",
     "shell.execute_reply.started": "2025-04-01T12:23:52.194510Z"
    }
   },
   "outputs": [
    {
     "ename": "ModuleNotFoundError",
     "evalue": "No module named 'urllib2'",
     "output_type": "error",
     "traceback": [
      "\u001b[0;31m---------------------------------------------------------------------------\u001b[0m",
      "\u001b[0;31mModuleNotFoundError\u001b[0m                       Traceback (most recent call last)",
      "Cell \u001b[0;32mIn[2], line 2\u001b[0m\n\u001b[1;32m      1\u001b[0m \u001b[38;5;66;03m#!/usr/bin/env python\u001b[39;00m\n\u001b[0;32m----> 2\u001b[0m \u001b[38;5;28;01mimport\u001b[39;00m \u001b[38;5;21;01murllib2\u001b[39;00m\n\u001b[1;32m      3\u001b[0m \u001b[38;5;28;01mimport\u001b[39;00m \u001b[38;5;21;01mjson\u001b[39;00m\n\u001b[1;32m      4\u001b[0m base \u001b[38;5;241m=\u001b[39m \u001b[38;5;124m'\u001b[39m\u001b[38;5;124mhttps://demo.dataverse.org\u001b[39m\u001b[38;5;124m'\u001b[39m\n",
      "\u001b[0;31mModuleNotFoundError\u001b[0m: No module named 'urllib2'"
     ]
    }
   ],
   "source": [
    "#!/usr/bin/env python\n",
    "import urllib2\n",
    "import json\n",
    "base = 'https://demo.dataverse.org'\n",
    "rows = 10\n",
    "start = 0\n",
    "page = 1\n",
    "condition = True # emulate do-while\n",
    "while (condition):\n",
    "    url = base + '/api/search?q=*' + \"&start=\" + str(start)\n",
    "    data = json.load(urllib2.urlopen(url))\n",
    "    total = data['data']['total_count']\n",
    "    print(\"=== Page\", page, \"===\")\n",
    "    print(\"start:\", start, \" total:\", total)\n",
    "    for i in data['data']['items']:\n",
    "        print(\"- \", i['name'], \"(\" + i['type'] + \")\")\n",
    "    start = start + rows\n",
    "    page += 1\n",
    "    condition = start < total"
   ]
  },
  {
   "cell_type": "code",
   "execution_count": null,
   "id": "ca051d38-4723-4aef-878a-a87ac1e3cc38",
   "metadata": {},
   "outputs": [],
   "source": []
  },
  {
   "cell_type": "markdown",
   "id": "24071645-5a38-4753-bfe0-d04bc28c111f",
   "metadata": {},
   "source": [
    "## How about `pyDataverse` python package? \n",
    "\n",
    "**This seems outdated and no longer supported.**"
   ]
  },
  {
   "cell_type": "markdown",
   "id": "33d4c052-d495-453f-908a-e2a4fb9d8edb",
   "metadata": {},
   "source": [
    "Let's also try to use the `pyDataverse` package for downloading data. \n",
    "\n",
    "See: https://pydataverse.readthedocs.io/en/latest/user/basic-usage.html#download-and-save-a-dataset-to-disk"
   ]
  },
  {
   "cell_type": "markdown",
   "id": "14a24743-1461-4b42-962b-01b030abecf6",
   "metadata": {
    "execution": {
     "iopub.execute_input": "2025-03-31T14:44:13.554019Z",
     "iopub.status.busy": "2025-03-31T14:44:13.553668Z",
     "iopub.status.idle": "2025-03-31T14:44:16.223798Z",
     "shell.execute_reply": "2025-03-31T14:44:16.223044Z",
     "shell.execute_reply.started": "2025-03-31T14:44:13.553986Z"
    }
   },
   "source": [
    "%pip install -U pyDataverse"
   ]
  },
  {
   "cell_type": "code",
   "execution_count": 2,
   "id": "a61b70e4-6453-4c37-9091-5527c2dd2682",
   "metadata": {
    "execution": {
     "iopub.execute_input": "2025-03-31T14:45:35.601768Z",
     "iopub.status.busy": "2025-03-31T14:45:35.601496Z",
     "iopub.status.idle": "2025-03-31T14:45:36.287966Z",
     "shell.execute_reply": "2025-03-31T14:45:36.287388Z",
     "shell.execute_reply.started": "2025-03-31T14:45:35.601740Z"
    }
   },
   "outputs": [],
   "source": [
    "from pyDataverse.api import NativeApi, DataAccessApi\n",
    "from pyDataverse.models import Dataverse "
   ]
  },
  {
   "cell_type": "code",
   "execution_count": 22,
   "id": "f2fccd2c-f6a1-4b5d-9c1c-2efe5eb95739",
   "metadata": {
    "execution": {
     "iopub.execute_input": "2025-03-31T15:08:19.829920Z",
     "iopub.status.busy": "2025-03-31T15:08:19.829770Z",
     "iopub.status.idle": "2025-03-31T15:08:19.833013Z",
     "shell.execute_reply": "2025-03-31T15:08:19.832527Z",
     "shell.execute_reply.started": "2025-03-31T15:08:19.829910Z"
    }
   },
   "outputs": [],
   "source": [
    "#base_url = 'https://dataverse.harvard.ed'\n",
    "base_url = 'https://dataverse.nl'\n",
    "api = NativeApi(base_url, api_version='v1')\n",
    "data_api = DataAccessApi(base_url)"
   ]
  },
  {
   "cell_type": "code",
   "execution_count": 23,
   "id": "f2dc7e1a-4ea9-4c03-a07b-140f0edeae81",
   "metadata": {
    "execution": {
     "iopub.execute_input": "2025-03-31T15:08:21.287359Z",
     "iopub.status.busy": "2025-03-31T15:08:21.286785Z",
     "iopub.status.idle": "2025-03-31T15:08:21.419869Z",
     "shell.execute_reply": "2025-03-31T15:08:21.419251Z",
     "shell.execute_reply.started": "2025-03-31T15:08:21.287338Z"
    }
   },
   "outputs": [],
   "source": [
    "#DOI = \"doi:10.7910/DVN/KBHLOD\"\n",
    "DOI = 'doi:10.34894/MSBW8A'\n",
    "dataset = api.get_dataset(DOI)\n"
   ]
  },
  {
   "cell_type": "code",
   "execution_count": 24,
   "id": "196f541e-a5f0-4a48-a8c5-d081617bf4ca",
   "metadata": {
    "execution": {
     "iopub.execute_input": "2025-03-31T15:08:22.213698Z",
     "iopub.status.busy": "2025-03-31T15:08:22.213457Z",
     "iopub.status.idle": "2025-03-31T15:08:22.216778Z",
     "shell.execute_reply": "2025-03-31T15:08:22.216273Z",
     "shell.execute_reply.started": "2025-03-31T15:08:22.213679Z"
    }
   },
   "outputs": [],
   "source": [
    "files_list = dataset.json()['data']['latestVersion']['files']"
   ]
  },
  {
   "cell_type": "code",
   "execution_count": 25,
   "id": "88d3d276-45e6-4ab8-8f33-2cafa86c9672",
   "metadata": {
    "execution": {
     "iopub.execute_input": "2025-03-31T15:08:23.253660Z",
     "iopub.status.busy": "2025-03-31T15:08:23.253090Z",
     "iopub.status.idle": "2025-03-31T15:08:23.257881Z",
     "shell.execute_reply": "2025-03-31T15:08:23.257366Z",
     "shell.execute_reply.started": "2025-03-31T15:08:23.253633Z"
    }
   },
   "outputs": [
    {
     "data": {
      "text/plain": [
       "[{'description': 'Lab logbook',\n",
       "  'label': '2016003 Dorestad D16 Logboek.pdf',\n",
       "  'restricted': False,\n",
       "  'version': 1,\n",
       "  'datasetVersionId': 29311,\n",
       "  'dataFile': {'id': 376393,\n",
       "   'persistentId': '',\n",
       "   'filename': '2016003 Dorestad D16 Logboek.pdf',\n",
       "   'contentType': 'application/pdf',\n",
       "   'friendlyType': 'Adobe PDF',\n",
       "   'filesize': 2951413,\n",
       "   'description': 'Lab logbook',\n",
       "   'storageIdentifier': 'file://1894e4bf037-544cfdd49456',\n",
       "   'rootDataFileId': -1,\n",
       "   'md5': '3ceeb18fe19526d0823e4128c805f14c',\n",
       "   'checksum': {'type': 'MD5', 'value': '3ceeb18fe19526d0823e4128c805f14c'},\n",
       "   'tabularData': False,\n",
       "   'creationDate': '2023-07-13',\n",
       "   'publicationDate': '2023-07-13',\n",
       "   'fileAccessRequest': False}},\n",
       " {'description': 'Measurement series in stacked Heidelberg format',\n",
       "  'label': '2016003 Dorestad meetreeksen 1 tot en met 10.fh',\n",
       "  'restricted': False,\n",
       "  'version': 1,\n",
       "  'datasetVersionId': 29311,\n",
       "  'dataFile': {'id': 376394,\n",
       "   'persistentId': '',\n",
       "   'filename': '2016003 Dorestad meetreeksen 1 tot en met 10.fh',\n",
       "   'contentType': 'image/x-freehand',\n",
       "   'friendlyType': 'image/x-freehand',\n",
       "   'filesize': 8126,\n",
       "   'description': 'Measurement series in stacked Heidelberg format',\n",
       "   'storageIdentifier': 'file://1894e4bf090-6cca7bcd1ecf',\n",
       "   'rootDataFileId': -1,\n",
       "   'md5': '056b4d46e62cde4201dac14bf9785975',\n",
       "   'checksum': {'type': 'MD5', 'value': '056b4d46e62cde4201dac14bf9785975'},\n",
       "   'tabularData': False,\n",
       "   'creationDate': '2023-07-13',\n",
       "   'publicationDate': '2023-07-13',\n",
       "   'fileAccessRequest': False}}]"
      ]
     },
     "execution_count": 25,
     "metadata": {},
     "output_type": "execute_result"
    }
   ],
   "source": [
    "files_list"
   ]
  },
  {
   "cell_type": "code",
   "execution_count": 15,
   "id": "14c4f2a8-b296-4da8-863c-b50832a9a11c",
   "metadata": {
    "execution": {
     "iopub.execute_input": "2025-03-31T15:00:33.288978Z",
     "iopub.status.busy": "2025-03-31T15:00:33.288737Z",
     "iopub.status.idle": "2025-03-31T15:00:33.463662Z",
     "shell.execute_reply": "2025-03-31T15:00:33.463075Z",
     "shell.execute_reply.started": "2025-03-31T15:00:33.288958Z"
    }
   },
   "outputs": [
    {
     "name": "stdout",
     "output_type": "stream",
     "text": [
      "File name 2016003 Dorestad D16 Logboek.pdf, id 376393\n",
      "File name 2016003 Dorestad meetreeksen 1 tot en met 10.fh, id 376394\n"
     ]
    }
   ],
   "source": [
    "for file in files_list:\n",
    "    filename = file[\"dataFile\"][\"filename\"]\n",
    "    file_id = file[\"dataFile\"][\"id\"]\n",
    "    print(\"File name {}, id {}\".format(filename, file_id))\n",
    "    response = data_api.get_datafile(file_id)\n",
    "    with open(filename, \"wb\") as f:\n",
    "        f.write(response.content)"
   ]
  },
  {
   "cell_type": "markdown",
   "id": "26d9eb13-c6cb-4aa8-a371-a2a469bbe93a",
   "metadata": {},
   "source": [
    "Almost there. Unfortunately these files are just text files that contain an error message: \n",
    "\n",
    "    {\"status\":\"ERROR\",\"code\":404,\"message\":\"API endpoint does not exist on this server. Please check your code for typos, or consult our API guide at http://guides.dataverse.org.\",\"requestUrl\":\"https://dataverse.nl/api/v1/access/datafile/:persistentId/?persistentId=376393\",\"requestMethod\":\"GET\"}"
   ]
  },
  {
   "cell_type": "code",
   "execution_count": 27,
   "id": "ec1fbc7a-efa6-4499-9c88-ce7b2e2a5d84",
   "metadata": {
    "execution": {
     "iopub.execute_input": "2025-03-31T15:11:54.874520Z",
     "iopub.status.busy": "2025-03-31T15:11:54.874274Z",
     "iopub.status.idle": "2025-03-31T15:11:54.877067Z",
     "shell.execute_reply": "2025-03-31T15:11:54.876630Z",
     "shell.execute_reply.started": "2025-03-31T15:11:54.874499Z"
    }
   },
   "outputs": [],
   "source": [
    "#data_api??"
   ]
  },
  {
   "cell_type": "code",
   "execution_count": null,
   "id": "226731d8-80d5-4d08-a7b1-b0d1fcd60981",
   "metadata": {},
   "outputs": [],
   "source": []
  }
 ],
 "metadata": {
  "kernelspec": {
   "display_name": "Python 3 (ipykernel)",
   "language": "python",
   "name": "python3"
  },
  "language_info": {
   "codemirror_mode": {
    "name": "ipython",
    "version": 3
   },
   "file_extension": ".py",
   "mimetype": "text/x-python",
   "name": "python",
   "nbconvert_exporter": "python",
   "pygments_lexer": "ipython3",
   "version": "3.12.5"
  },
  "widgets": {
   "application/vnd.jupyter.widget-state+json": {
    "state": {},
    "version_major": 2,
    "version_minor": 0
   }
  }
 },
 "nbformat": 4,
 "nbformat_minor": 5
}
