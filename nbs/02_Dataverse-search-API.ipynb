{
 "cells": [
  {
   "cell_type": "markdown",
   "id": "9952fc18-de02-4e1b-9fae-4ec508c49b87",
   "metadata": {},
   "source": [
    "# Dataverse search API"
   ]
  },
  {
   "cell_type": "markdown",
   "id": "71bd1540-cb92-4ec1-8a8b-74de387fb4f2",
   "metadata": {},
   "source": [
    "*As a next step, we need to learn how to query the complete DCCD dataverse...* "
   ]
  },
  {
   "cell_type": "markdown",
   "id": "b7bb272a-cbee-4b6a-9e5f-019965df34b7",
   "metadata": {},
   "source": [
    "## Listing all records"
   ]
  },
  {
   "cell_type": "markdown",
   "id": "d77f7f36-165a-412b-96eb-5a092a2553ab",
   "metadata": {},
   "source": [
    "As explained by Laura the example command to query all dendro records, say between 1400-1800 with `curl` is this terminal command below. The json output can be captured like so in the `output.txt` file. \n",
    "\n",
    "    $ curl \"https://dataverse.nl/api/search?q=dccd-periodEnd%3A%5B1400%20TO%201800%5D&start=0&per_page=100&subtree=dccd&type=dataset&metadata_fields=dccd:*\" | jq > output.txt "
   ]
  },
  {
   "cell_type": "markdown",
   "id": "5f718731-a268-4f2f-88d1-e67798b734f7",
   "metadata": {},
   "source": [
    "This works well, and provides meta data for the the first 100 records. An alternative to the `curl` command line tool might be the Python search API.  \n",
    "\n",
    "Let's explore the Search API: https://guides.dataverse.org/en/6.0/api/search.html. At the bottom of this page we find an iteration example: "
   ]
  },
  {
   "cell_type": "markdown",
   "id": "3df4817b-5e43-48e4-a2e1-d387554e8218",
   "metadata": {},
   "source": [
    "```python\n",
    "#!/usr/bin/env python\n",
    "import urllib2\n",
    "import json\n",
    "base = 'https://demo.dataverse.org'\n",
    "rows = 10\n",
    "start = 0\n",
    "page = 1\n",
    "condition = True # emulate do-while\n",
    "while (condition):\n",
    "    url = base + '/api/search?q=*' + \"&start=\" + str(start)\n",
    "    data = json.load(urllib2.urlopen(url))\n",
    "    total = data['data']['total_count']\n",
    "    print \"=== Page\", page, \"===\"\n",
    "    print \"start:\", start, \" total:\", total\n",
    "    for i in data['data']['items']:\n",
    "        print \"- \", i['name'], \"(\" + i['type'] + \")\"\n",
    "    start = start + rows\n",
    "    page += 1\n",
    "    condition = start < total\n",
    "```"
   ]
  },
  {
   "cell_type": "markdown",
   "id": "4a42238e-80d4-4525-ae5d-7cff05524c95",
   "metadata": {},
   "source": [
    "**Unfortunately, this example seems to be highly outdated. So instead, let's try to build the query with the code from Alessandra.**"
   ]
  },
  {
   "cell_type": "markdown",
   "id": "cd9673d9-ecc8-42bc-a24b-ab6456918472",
   "metadata": {},
   "source": [
    "Here is the json output for the first 5 datasets from the `dccd` subtree. "
   ]
  },
  {
   "cell_type": "code",
   "execution_count": 30,
   "id": "1a0d206d-5b9f-445e-bc2f-6428ebc734f5",
   "metadata": {
    "execution": {
     "iopub.execute_input": "2025-04-02T11:44:33.324096Z",
     "iopub.status.busy": "2025-04-02T11:44:33.323691Z",
     "iopub.status.idle": "2025-04-02T11:44:33.477951Z",
     "shell.execute_reply": "2025-04-02T11:44:33.476785Z",
     "shell.execute_reply.started": "2025-04-02T11:44:33.324069Z"
    }
   },
   "outputs": [],
   "source": [
    "import requests\n",
    "import zipfile\n",
    "import io\n",
    "import os \n",
    "import json\n",
    "\n",
    "# this seems a reasonable search query that should capture all datasets? \n",
    "url = f'https://dataverse.nl/api/search?q=subtree=dccd&type=dataset&start={start}&per_page={per_page}'\n",
    "\n",
    "#params = {\"persistent_id\": persistent_id}\n",
    "#response = requests.get(url, params=params, stream=True)\n",
    "response = requests.get(url, stream=True)"
   ]
  },
  {
   "cell_type": "code",
   "execution_count": 31,
   "id": "885c6273-31d6-41dd-ace4-dbfe524f37ad",
   "metadata": {
    "execution": {
     "iopub.execute_input": "2025-04-02T11:44:34.263299Z",
     "iopub.status.busy": "2025-04-02T11:44:34.262921Z",
     "iopub.status.idle": "2025-04-02T11:44:34.269366Z",
     "shell.execute_reply": "2025-04-02T11:44:34.268477Z",
     "shell.execute_reply.started": "2025-04-02T11:44:34.263272Z"
    }
   },
   "outputs": [
    {
     "data": {
      "text/plain": [
       "200"
      ]
     },
     "execution_count": 31,
     "metadata": {},
     "output_type": "execute_result"
    }
   ],
   "source": [
    "response.status_code"
   ]
  },
  {
   "cell_type": "code",
   "execution_count": 33,
   "id": "1d2973fa-e51a-47b3-a0cf-655cab98cb9b",
   "metadata": {
    "execution": {
     "iopub.execute_input": "2025-04-02T11:44:41.494784Z",
     "iopub.status.busy": "2025-04-02T11:44:41.494368Z",
     "iopub.status.idle": "2025-04-02T11:44:41.501684Z",
     "shell.execute_reply": "2025-04-02T11:44:41.500957Z",
     "shell.execute_reply.started": "2025-04-02T11:44:41.494754Z"
    }
   },
   "outputs": [
    {
     "data": {
      "text/plain": [
       "{'status': 'OK',\n",
       " 'data': {'q': 'subtree=dccd',\n",
       "  'total_count': 3648,\n",
       "  'start': 0,\n",
       "  'spelling_alternatives': {},\n",
       "  'items': [{'name': 'Towards an international research and data infrastructure for dendrochronology',\n",
       "    'type': 'dataset',\n",
       "    'url': 'https://doi.org/10.34894/UONJRZ',\n",
       "    'global_id': 'doi:10.34894/UONJRZ',\n",
       "    'description': 'Dendrochronological research project',\n",
       "    'published_at': '2021-09-29T07:39:46Z',\n",
       "    'publisher': 'DCCD internationalization project NWO 2010-2013',\n",
       "    'citationHtml': 'Jansma, E., 2013, \"Towards an international research and data infrastructure for dendrochronology\", <a href=\"https://doi.org/10.34894/UONJRZ\" target=\"_blank\">https://doi.org/10.34894/UONJRZ</a>, DataverseNL, V1',\n",
       "    'identifier_of_dataverse': 'dccdintprojnwo',\n",
       "    'name_of_dataverse': 'DCCD internationalization project NWO 2010-2013',\n",
       "    'citation': 'Jansma, E., 2013, \"Towards an international research and data infrastructure for dendrochronology\", https://doi.org/10.34894/UONJRZ, DataverseNL, V1',\n",
       "    'storageIdentifier': 'file://10.34894/UONJRZ',\n",
       "    'subjects': ['Arts and Humanities', 'Earth and Environmental Sciences'],\n",
       "    'fileCount': 3,\n",
       "    'versionId': 3957,\n",
       "    'versionState': 'RELEASED',\n",
       "    'majorVersion': 1,\n",
       "    'minorVersion': 0,\n",
       "    'createdAt': '2021-09-23T14:31:12Z',\n",
       "    'updatedAt': '2021-09-29T07:39:46Z',\n",
       "    'contacts': [{'name': 'Jansma, E.',\n",
       "      'affiliation': 'DCCD internationalization project NWO 2010-2013'}],\n",
       "    'publications': [{}],\n",
       "    'authors': ['Jansma, E.']}],\n",
       "  'count_in_response': 1}}"
      ]
     },
     "execution_count": 33,
     "metadata": {},
     "output_type": "execute_result"
    }
   ],
   "source": [
    "records = response.json()\n",
    "records"
   ]
  },
  {
   "cell_type": "markdown",
   "id": "ff26080e-541c-45d4-8db5-12f234d0aa7e",
   "metadata": {},
   "source": [
    "We now need extract the total number of records in order to download all parts. "
   ]
  },
  {
   "cell_type": "code",
   "execution_count": 24,
   "id": "66313db9-e019-4a1b-8463-9efc2b598aab",
   "metadata": {
    "execution": {
     "iopub.execute_input": "2025-04-02T06:46:30.603586Z",
     "iopub.status.busy": "2025-04-02T06:46:30.603276Z",
     "iopub.status.idle": "2025-04-02T06:46:30.608707Z",
     "shell.execute_reply": "2025-04-02T06:46:30.608053Z",
     "shell.execute_reply.started": "2025-04-02T06:46:30.603563Z"
    }
   },
   "outputs": [
    {
     "data": {
      "text/plain": [
       "3648"
      ]
     },
     "execution_count": 24,
     "metadata": {},
     "output_type": "execute_result"
    }
   ],
   "source": [
    "n_records = records['data']['total_count']\n",
    "n_records"
   ]
  },
  {
   "cell_type": "markdown",
   "id": "3e283b20-a718-45d9-98ee-dcd8f99d2cff",
   "metadata": {
    "execution": {
     "iopub.execute_input": "2025-04-02T06:43:26.246280Z",
     "iopub.status.busy": "2025-04-02T06:43:26.245836Z",
     "iopub.status.idle": "2025-04-02T06:43:26.252944Z",
     "shell.execute_reply": "2025-04-02T06:43:26.251954Z",
     "shell.execute_reply.started": "2025-04-02T06:43:26.246248Z"
    }
   },
   "source": [
    "Another problem that we need to solve now is how to merge the json batches. "
   ]
  },
  {
   "cell_type": "code",
   "execution_count": 37,
   "id": "56da37d5-92de-4600-84fd-24f8486460fe",
   "metadata": {
    "execution": {
     "iopub.execute_input": "2025-04-03T06:54:07.663364Z",
     "iopub.status.busy": "2025-04-03T06:54:07.662946Z",
     "iopub.status.idle": "2025-04-03T06:54:07.668748Z",
     "shell.execute_reply": "2025-04-03T06:54:07.667543Z",
     "shell.execute_reply.started": "2025-04-03T06:54:07.663335Z"
    }
   },
   "outputs": [],
   "source": [
    "start = 0 \n",
    "per_page = 2\n",
    "search_url = f'https://dataverse.nl/api/search?q=subtree=dccd&start={start}&per_page={per_page}'"
   ]
  },
  {
   "cell_type": "code",
   "execution_count": 38,
   "id": "798071c7-f73e-4353-8933-e171afd2a8b5",
   "metadata": {
    "execution": {
     "iopub.execute_input": "2025-04-03T06:54:58.370401Z",
     "iopub.status.busy": "2025-04-03T06:54:58.369690Z",
     "iopub.status.idle": "2025-04-03T06:55:04.023498Z",
     "shell.execute_reply": "2025-04-03T06:55:04.022155Z",
     "shell.execute_reply.started": "2025-04-03T06:54:58.370368Z"
    }
   },
   "outputs": [],
   "source": [
    "response = requests.get(search_url, stream=True)"
   ]
  },
  {
   "cell_type": "code",
   "execution_count": 39,
   "id": "9b2a5595-ea73-4f82-8d9b-584f8427f8ee",
   "metadata": {
    "execution": {
     "iopub.execute_input": "2025-04-03T06:55:35.330783Z",
     "iopub.status.busy": "2025-04-03T06:55:35.330383Z",
     "iopub.status.idle": "2025-04-03T06:55:35.339032Z",
     "shell.execute_reply": "2025-04-03T06:55:35.338146Z",
     "shell.execute_reply.started": "2025-04-03T06:55:35.330753Z"
    }
   },
   "outputs": [
    {
     "data": {
      "text/plain": [
       "{'status': 'OK',\n",
       " 'data': {'q': 'subtree=dccd',\n",
       "  'total_count': 4000,\n",
       "  'start': 0,\n",
       "  'spelling_alternatives': {},\n",
       "  'items': [{'name': 'DCCD',\n",
       "    'type': 'dataverse',\n",
       "    'url': 'https://dataverse.nl/dataverse/dccd',\n",
       "    'identifier': 'dccd',\n",
       "    'description': 'Digital Collaboratory for Cultural Dendrochronology (DCCD) For more information about Dendrochronological data in DataverseNL, please visit this page. Dendrochronology studies the annually varying ring widths in wood. Tree-ring patterns in wood from the cultural heritage contain unique information about former chronology, social economy, the historical landscape and its uses, climate and wood technology. The DCCD is a digital repository and interactive library of tree-ring data. Its content is developed through research of, among others: archaeological sites (including old landscapes), ship wrecks, buildings, furniture, paintings, sculptures and musical instruments. The DCCD is based on the Tree-Ring Data Standard (TRiDaS) and allows for conversion of other widely-used data formats. It contains digital tree-ring measurement series and average chronologies, as well as their descriptive and interpretative metadata. It allows contributors to control and manage access to their data.',\n",
       "    'published_at': '2021-09-27T12:29:31Z'},\n",
       "   {'name': 'Towards an international research and data infrastructure for dendrochronology',\n",
       "    'type': 'dataset',\n",
       "    'url': 'https://doi.org/10.34894/UONJRZ',\n",
       "    'global_id': 'doi:10.34894/UONJRZ',\n",
       "    'description': 'Dendrochronological research project',\n",
       "    'published_at': '2021-09-29T07:39:46Z',\n",
       "    'publisher': 'DCCD internationalization project NWO 2010-2013',\n",
       "    'citationHtml': 'Jansma, E., 2013, \"Towards an international research and data infrastructure for dendrochronology\", <a href=\"https://doi.org/10.34894/UONJRZ\" target=\"_blank\">https://doi.org/10.34894/UONJRZ</a>, DataverseNL, V1',\n",
       "    'identifier_of_dataverse': 'dccdintprojnwo',\n",
       "    'name_of_dataverse': 'DCCD internationalization project NWO 2010-2013',\n",
       "    'citation': 'Jansma, E., 2013, \"Towards an international research and data infrastructure for dendrochronology\", https://doi.org/10.34894/UONJRZ, DataverseNL, V1',\n",
       "    'storageIdentifier': 'file://10.34894/UONJRZ',\n",
       "    'subjects': ['Arts and Humanities', 'Earth and Environmental Sciences'],\n",
       "    'fileCount': 3,\n",
       "    'versionId': 3957,\n",
       "    'versionState': 'RELEASED',\n",
       "    'majorVersion': 1,\n",
       "    'minorVersion': 0,\n",
       "    'createdAt': '2021-09-23T14:31:12Z',\n",
       "    'updatedAt': '2021-09-29T07:39:46Z',\n",
       "    'contacts': [{'name': 'Jansma, E.',\n",
       "      'affiliation': 'DCCD internationalization project NWO 2010-2013'}],\n",
       "    'publications': [{}],\n",
       "    'authors': ['Jansma, E.']}],\n",
       "  'count_in_response': 2}}"
      ]
     },
     "execution_count": 39,
     "metadata": {},
     "output_type": "execute_result"
    }
   ],
   "source": [
    "response.json()"
   ]
  },
  {
   "cell_type": "code",
   "execution_count": 35,
   "id": "de277ac8-80bd-427b-b251-d28c903725ce",
   "metadata": {
    "execution": {
     "iopub.execute_input": "2025-04-02T11:52:33.485476Z",
     "iopub.status.busy": "2025-04-02T11:52:33.485211Z",
     "iopub.status.idle": "2025-04-02T11:52:33.613430Z",
     "shell.execute_reply": "2025-04-02T11:52:33.612559Z",
     "shell.execute_reply.started": "2025-04-02T11:52:33.485458Z"
    }
   },
   "outputs": [
    {
     "data": {
      "text/plain": [
       "{'status': 'OK',\n",
       " 'data': {'q': 'subtree=dccd',\n",
       "  'total_count': 3648,\n",
       "  'start': 0,\n",
       "  'spelling_alternatives': {},\n",
       "  'items': [{'name': 'Towards an international research and data infrastructure for dendrochronology',\n",
       "    'type': 'dataset',\n",
       "    'url': 'https://doi.org/10.34894/UONJRZ',\n",
       "    'global_id': 'doi:10.34894/UONJRZ',\n",
       "    'description': 'Dendrochronological research project',\n",
       "    'published_at': '2021-09-29T07:39:46Z',\n",
       "    'publisher': 'DCCD internationalization project NWO 2010-2013',\n",
       "    'citationHtml': 'Jansma, E., 2013, \"Towards an international research and data infrastructure for dendrochronology\", <a href=\"https://doi.org/10.34894/UONJRZ\" target=\"_blank\">https://doi.org/10.34894/UONJRZ</a>, DataverseNL, V1',\n",
       "    'identifier_of_dataverse': 'dccdintprojnwo',\n",
       "    'name_of_dataverse': 'DCCD internationalization project NWO 2010-2013',\n",
       "    'citation': 'Jansma, E., 2013, \"Towards an international research and data infrastructure for dendrochronology\", https://doi.org/10.34894/UONJRZ, DataverseNL, V1',\n",
       "    'storageIdentifier': 'file://10.34894/UONJRZ',\n",
       "    'subjects': ['Arts and Humanities', 'Earth and Environmental Sciences'],\n",
       "    'fileCount': 3,\n",
       "    'versionId': 3957,\n",
       "    'versionState': 'RELEASED',\n",
       "    'majorVersion': 1,\n",
       "    'minorVersion': 0,\n",
       "    'createdAt': '2021-09-23T14:31:12Z',\n",
       "    'updatedAt': '2021-09-29T07:39:46Z',\n",
       "    'contacts': [{'name': 'Jansma, E.',\n",
       "      'affiliation': 'DCCD internationalization project NWO 2010-2013'}],\n",
       "    'publications': [{}],\n",
       "    'authors': ['Jansma, E.']}],\n",
       "  'count_in_response': 1}}"
      ]
     },
     "execution_count": 35,
     "metadata": {},
     "output_type": "execute_result"
    }
   ],
   "source": [
    "# def bulk_download_dccd(): \n",
    "\n",
    "\n",
    "\n",
    "# step 1: determine total count from first item \n",
    "start = 0\n",
    "per_page = 1\n",
    "\n",
    "#url = f'https://dataverse.nl/api/search?q=subtree=dccd&type=dataset&start={start}&per_page={per_page}' \n",
    "url = f'https://dataverse.nl/api/search?q=subtree=dccd&type=dataset&start={start}&per_page={per_page\n",
    "\n",
    "response_json = requests.get(url, stream=True).json()\n",
    "response_json\n",
    "\n"
   ]
  },
  {
   "cell_type": "code",
   "execution_count": null,
   "id": "024f1a41-c4f5-4328-b76c-8d8fb8b97cfe",
   "metadata": {},
   "outputs": [],
   "source": []
  },
  {
   "cell_type": "markdown",
   "id": "47e48ca1-155d-4225-89c6-d55c53e2dd81",
   "metadata": {},
   "source": [
    "## Parsing json and extracting persistent id's "
   ]
  },
  {
   "cell_type": "markdown",
   "id": "e81cc742-96a1-4b62-ac31-ac646a696455",
   "metadata": {},
   "source": [
    "Let's see how easy it is to extract the persistent id's from these records..."
   ]
  },
  {
   "cell_type": "code",
   "execution_count": 17,
   "id": "0b016e99-9a84-4655-95cc-2f59676c272c",
   "metadata": {
    "execution": {
     "iopub.execute_input": "2025-04-01T19:03:17.529082Z",
     "iopub.status.busy": "2025-04-01T19:03:17.528561Z",
     "iopub.status.idle": "2025-04-01T19:03:17.535601Z",
     "shell.execute_reply": "2025-04-01T19:03:17.534569Z",
     "shell.execute_reply.started": "2025-04-01T19:03:17.529045Z"
    }
   },
   "outputs": [
    {
     "data": {
      "text/plain": [
       "['https://doi.org/10.34894/UONJRZ',\n",
       " 'https://doi.org/10.34894/CKVQTX',\n",
       " 'https://doi.org/10.34894/PFVS2M',\n",
       " 'https://doi.org/10.34894/WEVUWM',\n",
       " 'https://doi.org/10.34894/08BFJQ']"
      ]
     },
     "execution_count": 17,
     "metadata": {},
     "output_type": "execute_result"
    }
   ],
   "source": [
    "urls = [record['url'] for record in records['data']['items']]\n",
    "urls"
   ]
  },
  {
   "cell_type": "markdown",
   "id": "a0c12780-e30a-4366-af54-4cd76e22ca6f",
   "metadata": {},
   "source": [
    "## How about `easyDataverse`?"
   ]
  },
  {
   "cell_type": "markdown",
   "id": "74053d4a-3114-48b9-90f2-ccb022543273",
   "metadata": {},
   "source": [
    "**This is interesting! However, I do not see how to download all metadata this way.**"
   ]
  },
  {
   "cell_type": "markdown",
   "id": "18fcb183-2459-4f61-89b3-6d7bd93063ca",
   "metadata": {},
   "source": [
    "See: https://github.com/gdcc/easyDataverse and https://github.com/gdcc/easyDataverse/blob/main/examples/EasyDataverseBasics.ipynb"
   ]
  },
  {
   "cell_type": "markdown",
   "id": "cf4d0c24-9dc4-40b3-a6d9-99a5d673bd53",
   "metadata": {
    "execution": {
     "iopub.execute_input": "2025-04-01T15:04:12.765296Z",
     "iopub.status.busy": "2025-04-01T15:04:12.764946Z",
     "iopub.status.idle": "2025-04-01T15:04:19.739119Z",
     "shell.execute_reply": "2025-04-01T15:04:19.738431Z",
     "shell.execute_reply.started": "2025-04-01T15:04:12.765267Z"
    }
   },
   "source": [
    "%pip install easyDataverse"
   ]
  },
  {
   "cell_type": "code",
   "execution_count": 45,
   "id": "da09fe39-c643-4f90-b4be-7547d5b0b43a",
   "metadata": {
    "execution": {
     "iopub.execute_input": "2025-04-01T15:06:00.480421Z",
     "iopub.status.busy": "2025-04-01T15:06:00.480158Z",
     "iopub.status.idle": "2025-04-01T15:06:01.937728Z",
     "shell.execute_reply": "2025-04-01T15:06:01.937098Z",
     "shell.execute_reply.started": "2025-04-01T15:06:00.480394Z"
    }
   },
   "outputs": [],
   "source": [
    "from easyDataverse import Dataverse"
   ]
  },
  {
   "cell_type": "code",
   "execution_count": 52,
   "id": "5d17706d-9238-4146-9249-a6509f73465d",
   "metadata": {
    "execution": {
     "iopub.execute_input": "2025-04-01T15:27:06.381753Z",
     "iopub.status.busy": "2025-04-01T15:27:06.381513Z",
     "iopub.status.idle": "2025-04-01T15:27:06.646792Z",
     "shell.execute_reply": "2025-04-01T15:27:06.646377Z",
     "shell.execute_reply.started": "2025-04-01T15:27:06.381733Z"
    }
   },
   "outputs": [
    {
     "data": {
      "application/vnd.jupyter.widget-view+json": {
       "model_id": "53178a973f37450298a53ff4dfc4ddf3",
       "version_major": 2,
       "version_minor": 0
      },
      "text/plain": [
       "Output()"
      ]
     },
     "metadata": {},
     "output_type": "display_data"
    },
    {
     "name": "stdout",
     "output_type": "stream",
     "text": [
      "\n",
      "\n"
     ]
    },
    {
     "data": {
      "text/html": [
       "<pre style=\"white-space:pre;overflow-x:auto;line-height:normal;font-family:Menlo,'DejaVu Sans Mono',consolas,'Courier New',monospace\">🎉 <span style=\"font-weight: bold\">Connected to </span><span style=\"color: #008000; text-decoration-color: #008000; font-weight: bold\">'https://dataverse.nl/'</span>\n",
       "</pre>\n"
      ],
      "text/plain": [
       "🎉 \u001b[1mConnected to \u001b[0m\u001b[1;32m'https://dataverse.nl/'\u001b[0m\n"
      ]
     },
     "metadata": {},
     "output_type": "display_data"
    },
    {
     "data": {
      "text/html": [
       "<pre style=\"white-space:pre;overflow-x:auto;line-height:normal;font-family:Menlo,'DejaVu Sans Mono',consolas,'Courier New',monospace\"></pre>\n"
      ],
      "text/plain": []
     },
     "metadata": {},
     "output_type": "display_data"
    }
   ],
   "source": [
    "#dataverse = Dataverse(server_url='https://demo.dataverse.org')\n",
    "dataverse = Dataverse(server_url='https://dataverse.nl/')"
   ]
  },
  {
   "cell_type": "code",
   "execution_count": 55,
   "id": "a54c10b1-0eb7-4803-a633-578af29f4960",
   "metadata": {
    "execution": {
     "iopub.execute_input": "2025-04-01T15:31:04.525898Z",
     "iopub.status.busy": "2025-04-01T15:31:04.525655Z",
     "iopub.status.idle": "2025-04-01T15:31:04.529723Z",
     "shell.execute_reply": "2025-04-01T15:31:04.529236Z",
     "shell.execute_reply.started": "2025-04-01T15:31:04.525879Z"
    }
   },
   "outputs": [
    {
     "name": "stdout",
     "output_type": "stream",
     "text": [
      "geospatial\n",
      "socialscience\n",
      "astrophysics\n",
      "biomedical\n",
      "journal\n",
      "citation\n",
      "comrades-dcl-metadata\n",
      "dccd\n",
      "dansDataVaultMetadata\n"
     ]
    }
   ],
   "source": [
    "dataverse.list_metadatablocks(detailed=False)"
   ]
  },
  {
   "cell_type": "code",
   "execution_count": 56,
   "id": "c1293923-a9e6-426d-ae2d-8c02551ff92d",
   "metadata": {
    "execution": {
     "iopub.execute_input": "2025-04-01T15:31:15.034963Z",
     "iopub.status.busy": "2025-04-01T15:31:15.034717Z",
     "iopub.status.idle": "2025-04-01T15:31:15.039530Z",
     "shell.execute_reply": "2025-04-01T15:31:15.038945Z",
     "shell.execute_reply.started": "2025-04-01T15:31:15.034943Z"
    }
   },
   "outputs": [
    {
     "name": "stdout",
     "output_type": "stream",
     "text": [
      "metadatablocks: {}\n",
      "\n"
     ]
    }
   ],
   "source": [
    "dataset = dataverse.load_dataset() create_dataset()\n",
    "\n",
    "print(dataset) # Should be empty by now"
   ]
  },
  {
   "cell_type": "code",
   "execution_count": 57,
   "id": "98feba2b-28e3-4fb1-93e6-d0e6b1679170",
   "metadata": {
    "execution": {
     "iopub.execute_input": "2025-04-01T15:32:22.635592Z",
     "iopub.status.busy": "2025-04-01T15:32:22.635347Z",
     "iopub.status.idle": "2025-04-01T15:32:22.642069Z",
     "shell.execute_reply": "2025-04-01T15:32:22.641492Z",
     "shell.execute_reply.started": "2025-04-01T15:32:22.635572Z"
    }
   },
   "outputs": [
    {
     "data": {
      "text/html": [
       "<pre style=\"white-space:pre;overflow-x:auto;line-height:normal;font-family:Menlo,'DejaVu Sans Mono',consolas,'Courier New',monospace\"><span style=\"color: #00ffd7; text-decoration-color: #00ffd7; font-weight: bold\">Dccd</span>\n",
       "├── <span style=\"font-weight: bold\">dccdproject_type</span>: <span style=\"font-style: italic\">dccd-projectType</span>\n",
       "├── <span style=\"font-weight: bold\">dccdcategory</span>: <span style=\"font-style: italic\">dccd-category</span>\n",
       "├── <span style=\"font-weight: bold\">dccdprincipal_investigator</span>: <span style=\"font-style: italic\">str</span>\n",
       "├── <span style=\"font-weight: bold\">dccdobject_type</span>: <span style=\"font-style: italic\">dccd-objectType</span>\n",
       "├── <span style=\"font-weight: bold\">dccdelement_type</span>: <span style=\"font-style: italic\">dccd-elementType</span>\n",
       "├── <span style=\"font-weight: bold\">dccdtaxon</span>: <span style=\"font-style: italic\">dccd-taxon</span>\n",
       "├── <span style=\"font-weight: bold\">dccdlocation</span>: <span style=\"font-style: italic\">Location</span>\n",
       "│   ├── dccdlatitude\n",
       "│   ╰── dccdlongitude\n",
       "├── <span style=\"font-weight: bold\">dccdperiod</span>: <span style=\"font-style: italic\">TimePeriod</span>\n",
       "│   ├── start\n",
       "│   ╰── end\n",
       "╰── <span style=\"font-weight: bold; font-style: italic\">Add Functions</span>\n",
       "    ├── add_dccdlocation\n",
       "    ╰── add_dccdperiod\n",
       "</pre>\n"
      ],
      "text/plain": [
       "\u001b[1;38;5;50mDccd\u001b[0m\n",
       "├── \u001b[1mdccdproject_type\u001b[0m: \u001b[3mdccd-projectType\u001b[0m\n",
       "├── \u001b[1mdccdcategory\u001b[0m: \u001b[3mdccd-category\u001b[0m\n",
       "├── \u001b[1mdccdprincipal_investigator\u001b[0m: \u001b[3mstr\u001b[0m\n",
       "├── \u001b[1mdccdobject_type\u001b[0m: \u001b[3mdccd-objectType\u001b[0m\n",
       "├── \u001b[1mdccdelement_type\u001b[0m: \u001b[3mdccd-elementType\u001b[0m\n",
       "├── \u001b[1mdccdtaxon\u001b[0m: \u001b[3mdccd-taxon\u001b[0m\n",
       "├── \u001b[1mdccdlocation\u001b[0m: \u001b[3mLocation\u001b[0m\n",
       "│   ├── dccdlatitude\n",
       "│   ╰── dccdlongitude\n",
       "├── \u001b[1mdccdperiod\u001b[0m: \u001b[3mTimePeriod\u001b[0m\n",
       "│   ├── start\n",
       "│   ╰── end\n",
       "╰── \u001b[1;3mAdd Functions\u001b[0m\n",
       "    ├── add_dccdlocation\n",
       "    ╰── add_dccdperiod\n"
      ]
     },
     "metadata": {},
     "output_type": "display_data"
    }
   ],
   "source": [
    "dataset.dccd.info()"
   ]
  },
  {
   "cell_type": "code",
   "execution_count": 61,
   "id": "a3320515-5ddd-4772-9730-ab1dd4299e1e",
   "metadata": {
    "execution": {
     "iopub.execute_input": "2025-04-01T15:38:14.650061Z",
     "iopub.status.busy": "2025-04-01T15:38:14.649800Z",
     "iopub.status.idle": "2025-04-01T15:38:14.652814Z",
     "shell.execute_reply": "2025-04-01T15:38:14.652343Z",
     "shell.execute_reply.started": "2025-04-01T15:38:14.650040Z"
    }
   },
   "outputs": [],
   "source": []
  },
  {
   "cell_type": "markdown",
   "id": "24071645-5a38-4753-bfe0-d04bc28c111f",
   "metadata": {},
   "source": [
    "## How about `pyDataverse` python package? \n",
    "\n",
    "**This seems outdated and no longer supported.**"
   ]
  },
  {
   "cell_type": "markdown",
   "id": "33d4c052-d495-453f-908a-e2a4fb9d8edb",
   "metadata": {},
   "source": [
    "Let's also try to use the `pyDataverse` package for downloading data. \n",
    "\n",
    "See: https://pydataverse.readthedocs.io/en/latest/user/basic-usage.html#download-and-save-a-dataset-to-disk"
   ]
  },
  {
   "cell_type": "markdown",
   "id": "14a24743-1461-4b42-962b-01b030abecf6",
   "metadata": {
    "execution": {
     "iopub.execute_input": "2025-03-31T14:44:13.554019Z",
     "iopub.status.busy": "2025-03-31T14:44:13.553668Z",
     "iopub.status.idle": "2025-03-31T14:44:16.223798Z",
     "shell.execute_reply": "2025-03-31T14:44:16.223044Z",
     "shell.execute_reply.started": "2025-03-31T14:44:13.553986Z"
    }
   },
   "source": [
    "%pip install -U pyDataverse"
   ]
  },
  {
   "cell_type": "code",
   "execution_count": 2,
   "id": "a61b70e4-6453-4c37-9091-5527c2dd2682",
   "metadata": {
    "execution": {
     "iopub.execute_input": "2025-03-31T14:45:35.601768Z",
     "iopub.status.busy": "2025-03-31T14:45:35.601496Z",
     "iopub.status.idle": "2025-03-31T14:45:36.287966Z",
     "shell.execute_reply": "2025-03-31T14:45:36.287388Z",
     "shell.execute_reply.started": "2025-03-31T14:45:35.601740Z"
    }
   },
   "outputs": [],
   "source": [
    "from pyDataverse.api import NativeApi, DataAccessApi\n",
    "from pyDataverse.models import Dataverse "
   ]
  },
  {
   "cell_type": "code",
   "execution_count": 22,
   "id": "f2fccd2c-f6a1-4b5d-9c1c-2efe5eb95739",
   "metadata": {
    "execution": {
     "iopub.execute_input": "2025-03-31T15:08:19.829920Z",
     "iopub.status.busy": "2025-03-31T15:08:19.829770Z",
     "iopub.status.idle": "2025-03-31T15:08:19.833013Z",
     "shell.execute_reply": "2025-03-31T15:08:19.832527Z",
     "shell.execute_reply.started": "2025-03-31T15:08:19.829910Z"
    }
   },
   "outputs": [],
   "source": [
    "#base_url = 'https://dataverse.harvard.ed'\n",
    "base_url = 'https://dataverse.nl'\n",
    "api = NativeApi(base_url, api_version='v1')\n",
    "data_api = DataAccessApi(base_url)"
   ]
  },
  {
   "cell_type": "code",
   "execution_count": 23,
   "id": "f2dc7e1a-4ea9-4c03-a07b-140f0edeae81",
   "metadata": {
    "execution": {
     "iopub.execute_input": "2025-03-31T15:08:21.287359Z",
     "iopub.status.busy": "2025-03-31T15:08:21.286785Z",
     "iopub.status.idle": "2025-03-31T15:08:21.419869Z",
     "shell.execute_reply": "2025-03-31T15:08:21.419251Z",
     "shell.execute_reply.started": "2025-03-31T15:08:21.287338Z"
    }
   },
   "outputs": [],
   "source": [
    "#DOI = \"doi:10.7910/DVN/KBHLOD\"\n",
    "DOI = 'doi:10.34894/MSBW8A'\n",
    "dataset = api.get_dataset(DOI)\n"
   ]
  },
  {
   "cell_type": "code",
   "execution_count": 24,
   "id": "196f541e-a5f0-4a48-a8c5-d081617bf4ca",
   "metadata": {
    "execution": {
     "iopub.execute_input": "2025-03-31T15:08:22.213698Z",
     "iopub.status.busy": "2025-03-31T15:08:22.213457Z",
     "iopub.status.idle": "2025-03-31T15:08:22.216778Z",
     "shell.execute_reply": "2025-03-31T15:08:22.216273Z",
     "shell.execute_reply.started": "2025-03-31T15:08:22.213679Z"
    }
   },
   "outputs": [],
   "source": [
    "files_list = dataset.json()['data']['latestVersion']['files']"
   ]
  },
  {
   "cell_type": "code",
   "execution_count": 25,
   "id": "88d3d276-45e6-4ab8-8f33-2cafa86c9672",
   "metadata": {
    "execution": {
     "iopub.execute_input": "2025-03-31T15:08:23.253660Z",
     "iopub.status.busy": "2025-03-31T15:08:23.253090Z",
     "iopub.status.idle": "2025-03-31T15:08:23.257881Z",
     "shell.execute_reply": "2025-03-31T15:08:23.257366Z",
     "shell.execute_reply.started": "2025-03-31T15:08:23.253633Z"
    }
   },
   "outputs": [
    {
     "data": {
      "text/plain": [
       "[{'description': 'Lab logbook',\n",
       "  'label': '2016003 Dorestad D16 Logboek.pdf',\n",
       "  'restricted': False,\n",
       "  'version': 1,\n",
       "  'datasetVersionId': 29311,\n",
       "  'dataFile': {'id': 376393,\n",
       "   'persistentId': '',\n",
       "   'filename': '2016003 Dorestad D16 Logboek.pdf',\n",
       "   'contentType': 'application/pdf',\n",
       "   'friendlyType': 'Adobe PDF',\n",
       "   'filesize': 2951413,\n",
       "   'description': 'Lab logbook',\n",
       "   'storageIdentifier': 'file://1894e4bf037-544cfdd49456',\n",
       "   'rootDataFileId': -1,\n",
       "   'md5': '3ceeb18fe19526d0823e4128c805f14c',\n",
       "   'checksum': {'type': 'MD5', 'value': '3ceeb18fe19526d0823e4128c805f14c'},\n",
       "   'tabularData': False,\n",
       "   'creationDate': '2023-07-13',\n",
       "   'publicationDate': '2023-07-13',\n",
       "   'fileAccessRequest': False}},\n",
       " {'description': 'Measurement series in stacked Heidelberg format',\n",
       "  'label': '2016003 Dorestad meetreeksen 1 tot en met 10.fh',\n",
       "  'restricted': False,\n",
       "  'version': 1,\n",
       "  'datasetVersionId': 29311,\n",
       "  'dataFile': {'id': 376394,\n",
       "   'persistentId': '',\n",
       "   'filename': '2016003 Dorestad meetreeksen 1 tot en met 10.fh',\n",
       "   'contentType': 'image/x-freehand',\n",
       "   'friendlyType': 'image/x-freehand',\n",
       "   'filesize': 8126,\n",
       "   'description': 'Measurement series in stacked Heidelberg format',\n",
       "   'storageIdentifier': 'file://1894e4bf090-6cca7bcd1ecf',\n",
       "   'rootDataFileId': -1,\n",
       "   'md5': '056b4d46e62cde4201dac14bf9785975',\n",
       "   'checksum': {'type': 'MD5', 'value': '056b4d46e62cde4201dac14bf9785975'},\n",
       "   'tabularData': False,\n",
       "   'creationDate': '2023-07-13',\n",
       "   'publicationDate': '2023-07-13',\n",
       "   'fileAccessRequest': False}}]"
      ]
     },
     "execution_count": 25,
     "metadata": {},
     "output_type": "execute_result"
    }
   ],
   "source": [
    "files_list"
   ]
  },
  {
   "cell_type": "code",
   "execution_count": 15,
   "id": "14c4f2a8-b296-4da8-863c-b50832a9a11c",
   "metadata": {
    "execution": {
     "iopub.execute_input": "2025-03-31T15:00:33.288978Z",
     "iopub.status.busy": "2025-03-31T15:00:33.288737Z",
     "iopub.status.idle": "2025-03-31T15:00:33.463662Z",
     "shell.execute_reply": "2025-03-31T15:00:33.463075Z",
     "shell.execute_reply.started": "2025-03-31T15:00:33.288958Z"
    }
   },
   "outputs": [
    {
     "name": "stdout",
     "output_type": "stream",
     "text": [
      "File name 2016003 Dorestad D16 Logboek.pdf, id 376393\n",
      "File name 2016003 Dorestad meetreeksen 1 tot en met 10.fh, id 376394\n"
     ]
    }
   ],
   "source": [
    "for file in files_list:\n",
    "    filename = file[\"dataFile\"][\"filename\"]\n",
    "    file_id = file[\"dataFile\"][\"id\"]\n",
    "    print(\"File name {}, id {}\".format(filename, file_id))\n",
    "    response = data_api.get_datafile(file_id)\n",
    "    with open(filename, \"wb\") as f:\n",
    "        f.write(response.content)"
   ]
  },
  {
   "cell_type": "markdown",
   "id": "26d9eb13-c6cb-4aa8-a371-a2a469bbe93a",
   "metadata": {},
   "source": [
    "Almost there. Unfortunately these files are just text files that contain an error message: \n",
    "\n",
    "    {\"status\":\"ERROR\",\"code\":404,\"message\":\"API endpoint does not exist on this server. Please check your code for typos, or consult our API guide at http://guides.dataverse.org.\",\"requestUrl\":\"https://dataverse.nl/api/v1/access/datafile/:persistentId/?persistentId=376393\",\"requestMethod\":\"GET\"}"
   ]
  },
  {
   "cell_type": "code",
   "execution_count": 27,
   "id": "ec1fbc7a-efa6-4499-9c88-ce7b2e2a5d84",
   "metadata": {
    "execution": {
     "iopub.execute_input": "2025-03-31T15:11:54.874520Z",
     "iopub.status.busy": "2025-03-31T15:11:54.874274Z",
     "iopub.status.idle": "2025-03-31T15:11:54.877067Z",
     "shell.execute_reply": "2025-03-31T15:11:54.876630Z",
     "shell.execute_reply.started": "2025-03-31T15:11:54.874499Z"
    }
   },
   "outputs": [],
   "source": [
    "#data_api??"
   ]
  },
  {
   "cell_type": "code",
   "execution_count": null,
   "id": "226731d8-80d5-4d08-a7b1-b0d1fcd60981",
   "metadata": {},
   "outputs": [],
   "source": []
  }
 ],
 "metadata": {
  "kernelspec": {
   "display_name": "Python 3 (ipykernel)",
   "language": "python",
   "name": "python3"
  },
  "language_info": {
   "codemirror_mode": {
    "name": "ipython",
    "version": 3
   },
   "file_extension": ".py",
   "mimetype": "text/x-python",
   "name": "python",
   "nbconvert_exporter": "python",
   "pygments_lexer": "ipython3",
   "version": "3.11.7"
  },
  "widgets": {
   "application/vnd.jupyter.widget-state+json": {
    "state": {
     "110dcbec6100430a8b01bd22cb233d40": {
      "model_module": "@jupyter-widgets/base",
      "model_module_version": "2.0.0",
      "model_name": "LayoutModel",
      "state": {}
     },
     "53178a973f37450298a53ff4dfc4ddf3": {
      "model_module": "@jupyter-widgets/output",
      "model_module_version": "1.0.0",
      "model_name": "OutputModel",
      "state": {
       "layout": "IPY_MODEL_110dcbec6100430a8b01bd22cb233d40",
       "outputs": [
        {
         "data": {
          "text/html": "<pre style=\"white-space:pre;overflow-x:auto;line-height:normal;font-family:Menlo,'DejaVu Sans Mono',consolas,'Courier New',monospace\"><span style=\"color: #008000; text-decoration-color: #008000\">⠹</span> Connecting to https://dataverse.nl/...\n</pre>\n",
          "text/plain": "\u001b[32m⠹\u001b[0m Connecting to https://dataverse.nl/...\n"
         },
         "metadata": {},
         "output_type": "display_data"
        }
       ]
      }
     },
     "7175eb2285ee424b95fd8140976895c4": {
      "model_module": "@jupyter-widgets/base",
      "model_module_version": "2.0.0",
      "model_name": "LayoutModel",
      "state": {}
     },
     "c8759728189d4469855f8bcc0c0c37a7": {
      "model_module": "@jupyter-widgets/output",
      "model_module_version": "1.0.0",
      "model_name": "OutputModel",
      "state": {
       "layout": "IPY_MODEL_7175eb2285ee424b95fd8140976895c4",
       "outputs": [
        {
         "data": {
          "text/html": "<pre style=\"white-space:pre;overflow-x:auto;line-height:normal;font-family:Menlo,'DejaVu Sans Mono',consolas,'Courier New',monospace\"><span style=\"color: #008000; text-decoration-color: #008000\">⠋</span> Connecting to https://dataverse.nl/dataverse/stichtingring...\n</pre>\n",
          "text/plain": "\u001b[32m⠋\u001b[0m Connecting to https://dataverse.nl/dataverse/stichtingring...\n"
         },
         "metadata": {},
         "output_type": "display_data"
        }
       ]
      }
     },
     "d8aa02932e5440e7a4be6231fd7b7519": {
      "model_module": "@jupyter-widgets/output",
      "model_module_version": "1.0.0",
      "model_name": "OutputModel",
      "state": {
       "layout": "IPY_MODEL_ea79a900bfd542a59491450755e2bcda",
       "outputs": [
        {
         "data": {
          "text/html": "<pre style=\"white-space:pre;overflow-x:auto;line-height:normal;font-family:Menlo,'DejaVu Sans Mono',consolas,'Courier New',monospace\"><span style=\"color: #008000; text-decoration-color: #008000\">⠧</span> Connecting to https://demo.dataverse.org/...\n</pre>\n",
          "text/plain": "\u001b[32m⠧\u001b[0m Connecting to https://demo.dataverse.org/...\n"
         },
         "metadata": {},
         "output_type": "display_data"
        }
       ]
      }
     },
     "ea79a900bfd542a59491450755e2bcda": {
      "model_module": "@jupyter-widgets/base",
      "model_module_version": "2.0.0",
      "model_name": "LayoutModel",
      "state": {}
     }
    },
    "version_major": 2,
    "version_minor": 0
   }
  }
 },
 "nbformat": 4,
 "nbformat_minor": 5
}
