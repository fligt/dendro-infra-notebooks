{
 "cells": [
  {
   "cell_type": "markdown",
   "id": "9952fc18-de02-4e1b-9fae-4ec508c49b87",
   "metadata": {},
   "source": [
    "# Dataverse search API"
   ]
  },
  {
   "cell_type": "markdown",
   "id": "71bd1540-cb92-4ec1-8a8b-74de387fb4f2",
   "metadata": {},
   "source": [
    "By studying code examples in the previous notebook by Alessandra and the `curl` command by Laura (see below), we can now try to use python to query and download data from the DCCD database. \n",
    "\n",
    "I also had a look at the documentation provided by the Dataverse itself. But this is somewhat outdated: https://guides.dataverse.org/en/6.0/api/search.html. "
   ]
  },
  {
   "cell_type": "code",
   "execution_count": 2,
   "id": "fc04fae9-6227-4f1b-82f1-f03fdf2b8701",
   "metadata": {
    "execution": {
     "iopub.execute_input": "2025-04-03T11:39:35.397217Z",
     "iopub.status.busy": "2025-04-03T11:39:35.396948Z",
     "iopub.status.idle": "2025-04-03T11:39:35.399707Z",
     "shell.execute_reply": "2025-04-03T11:39:35.399360Z",
     "shell.execute_reply.started": "2025-04-03T11:39:35.397195Z"
    }
   },
   "outputs": [],
   "source": [
    "import requests\n",
    "import zipfile\n",
    "import io\n",
    "import os \n",
    "import json"
   ]
  },
  {
   "cell_type": "markdown",
   "id": "9f5e6888-23d1-4804-9031-3a853424beaa",
   "metadata": {},
   "source": [
    "We will use the well established python package `requests` explore the DCCD database. Let's start with a very basic `get()` request and take a look at the response. We are asking for the first 2 items in the DCCD database only.   "
   ]
  },
  {
   "cell_type": "code",
   "execution_count": 3,
   "id": "ba3baf23-9572-4659-aa7d-d3395a61b512",
   "metadata": {
    "execution": {
     "iopub.execute_input": "2025-04-03T11:47:06.504449Z",
     "iopub.status.busy": "2025-04-03T11:47:06.504170Z",
     "iopub.status.idle": "2025-04-03T11:47:06.593920Z",
     "shell.execute_reply": "2025-04-03T11:47:06.593342Z",
     "shell.execute_reply.started": "2025-04-03T11:47:06.504428Z"
    }
   },
   "outputs": [],
   "source": [
    "response = requests.get('https://dataverse.nl/api/search?q=subtree=dccd&start=0&per_page=2')"
   ]
  },
  {
   "cell_type": "markdown",
   "id": "2d494b1c-485a-4c5d-bba5-b45e86c645eb",
   "metadata": {},
   "source": [
    "We can study the response by looking at it's `status_code` attribute. "
   ]
  },
  {
   "cell_type": "code",
   "execution_count": 7,
   "id": "45c5ec36-c12c-462f-a464-034ec8adf73e",
   "metadata": {
    "execution": {
     "iopub.execute_input": "2025-04-03T11:54:13.664801Z",
     "iopub.status.busy": "2025-04-03T11:54:13.664557Z",
     "iopub.status.idle": "2025-04-03T11:54:13.668683Z",
     "shell.execute_reply": "2025-04-03T11:54:13.668207Z",
     "shell.execute_reply.started": "2025-04-03T11:54:13.664780Z"
    }
   },
   "outputs": [
    {
     "data": {
      "text/plain": [
       "200"
      ]
     },
     "execution_count": 7,
     "metadata": {},
     "output_type": "execute_result"
    }
   ],
   "source": [
    "response.status_code "
   ]
  },
  {
   "cell_type": "markdown",
   "id": "5585c879-6234-4cc6-8580-8e360bade061",
   "metadata": {},
   "source": [
    "We see here that `status_code == 200` which means `OK`. "
   ]
  },
  {
   "cell_type": "markdown",
   "id": "d52ba804-d5b9-4bf0-8771-4c85e713e95f",
   "metadata": {},
   "source": [
    "The actual (meta data) content of the response can be inspected with the `.json()` method. "
   ]
  },
  {
   "cell_type": "code",
   "execution_count": 6,
   "id": "31654599-7af7-461e-81ce-d4d8316cf812",
   "metadata": {
    "execution": {
     "iopub.execute_input": "2025-04-03T11:49:57.470170Z",
     "iopub.status.busy": "2025-04-03T11:49:57.469609Z",
     "iopub.status.idle": "2025-04-03T11:49:57.474863Z",
     "shell.execute_reply": "2025-04-03T11:49:57.474304Z",
     "shell.execute_reply.started": "2025-04-03T11:49:57.470139Z"
    }
   },
   "outputs": [
    {
     "data": {
      "text/plain": [
       "{'status': 'OK',\n",
       " 'data': {'q': 'subtree=dccd',\n",
       "  'total_count': 4000,\n",
       "  'start': 0,\n",
       "  'spelling_alternatives': {},\n",
       "  'items': [{'name': 'DCCD',\n",
       "    'type': 'dataverse',\n",
       "    'url': 'https://dataverse.nl/dataverse/dccd',\n",
       "    'identifier': 'dccd',\n",
       "    'description': 'Digital Collaboratory for Cultural Dendrochronology (DCCD) For more information about Dendrochronological data in DataverseNL, please visit this page. Dendrochronology studies the annually varying ring widths in wood. Tree-ring patterns in wood from the cultural heritage contain unique information about former chronology, social economy, the historical landscape and its uses, climate and wood technology. The DCCD is a digital repository and interactive library of tree-ring data. Its content is developed through research of, among others: archaeological sites (including old landscapes), ship wrecks, buildings, furniture, paintings, sculptures and musical instruments. The DCCD is based on the Tree-Ring Data Standard (TRiDaS) and allows for conversion of other widely-used data formats. It contains digital tree-ring measurement series and average chronologies, as well as their descriptive and interpretative metadata. It allows contributors to control and manage access to their data.',\n",
       "    'published_at': '2021-09-27T12:29:31Z'},\n",
       "   {'name': 'Towards an international research and data infrastructure for dendrochronology',\n",
       "    'type': 'dataset',\n",
       "    'url': 'https://doi.org/10.34894/UONJRZ',\n",
       "    'global_id': 'doi:10.34894/UONJRZ',\n",
       "    'description': 'Dendrochronological research project',\n",
       "    'published_at': '2021-09-29T07:39:46Z',\n",
       "    'publisher': 'DCCD internationalization project NWO 2010-2013',\n",
       "    'citationHtml': 'Jansma, E., 2013, \"Towards an international research and data infrastructure for dendrochronology\", <a href=\"https://doi.org/10.34894/UONJRZ\" target=\"_blank\">https://doi.org/10.34894/UONJRZ</a>, DataverseNL, V1',\n",
       "    'identifier_of_dataverse': 'dccdintprojnwo',\n",
       "    'name_of_dataverse': 'DCCD internationalization project NWO 2010-2013',\n",
       "    'citation': 'Jansma, E., 2013, \"Towards an international research and data infrastructure for dendrochronology\", https://doi.org/10.34894/UONJRZ, DataverseNL, V1',\n",
       "    'storageIdentifier': 'file://10.34894/UONJRZ',\n",
       "    'subjects': ['Arts and Humanities', 'Earth and Environmental Sciences'],\n",
       "    'fileCount': 3,\n",
       "    'versionId': 3957,\n",
       "    'versionState': 'RELEASED',\n",
       "    'majorVersion': 1,\n",
       "    'minorVersion': 0,\n",
       "    'createdAt': '2021-09-23T14:31:12Z',\n",
       "    'updatedAt': '2021-09-29T07:39:46Z',\n",
       "    'contacts': [{'name': 'Jansma, E.',\n",
       "      'affiliation': 'DCCD internationalization project NWO 2010-2013'}],\n",
       "    'publications': [{}],\n",
       "    'authors': ['Jansma, E.']}],\n",
       "  'count_in_response': 2}}"
      ]
     },
     "execution_count": 6,
     "metadata": {},
     "output_type": "execute_result"
    }
   ],
   "source": [
    "response.json()"
   ]
  },
  {
   "cell_type": "markdown",
   "id": "e0d5d265-8293-4146-8ff1-54bb4838c668",
   "metadata": {},
   "source": [
    "Browsing through this result, several interesting pieces of information show up. First of all, the `'total_count'` of items in the DCCD database is 4000. Next thing to notice is that we can have different types of data items in the response. In this case we see that the first item is of the type `'dataverse'`. Our second item in the result is of the type `'dataset'`. However, this does not seem  to be an actual dendrochronological dataset, but a publication.  "
   ]
  },
  {
   "cell_type": "markdown",
   "id": "b3210315-06ba-42b0-a66a-44fcd8cf6f93",
   "metadata": {},
   "source": [
    "If we copy the url of this second item into a web browser we are redirected to this page: https://dataverse.nl/dataset.xhtml?persistentId=doi:10.34894/UONJRZ\n",
    "\n",
    "**At the bottom of this page we see a table with the descriptions of three files. However, access to these files appears to be restricted. This is a piece of information that does not seem to appear in the json code above. It is unclear how we can check in advance which datasets are actually open.**  "
   ]
  },
  {
   "cell_type": "markdown",
   "id": "8478335b-bedf-4e56-a9fc-ef0124a9536a",
   "metadata": {},
   "source": [
    "## Testing file downloads for Stichting RING "
   ]
  },
  {
   "cell_type": "markdown",
   "id": "b6a583be-d765-4e39-bdfb-a621273cb923",
   "metadata": {},
   "source": [
    "I have understood that the complete data for Stichting RING should be available for download. So for now, let's limit our search scope to datasets in this sub tree, and build formatted strings for searching and downloading, so we can easily reuse it. The curly brackets in these strings are parts that can be replaced with the `format()` method.  "
   ]
  },
  {
   "cell_type": "code",
   "execution_count": 74,
   "id": "e841d016-a029-4149-8170-43624e6b654f",
   "metadata": {
    "execution": {
     "iopub.execute_input": "2025-04-03T15:49:54.301611Z",
     "iopub.status.busy": "2025-04-03T15:49:54.301357Z",
     "iopub.status.idle": "2025-04-03T15:49:54.304901Z",
     "shell.execute_reply": "2025-04-03T15:49:54.304196Z",
     "shell.execute_reply.started": "2025-04-03T15:49:54.301590Z"
    }
   },
   "outputs": [],
   "source": [
    "search_url = 'https://dataverse.nl/api/search?q=subtree=stichtingring&type=dataset&start={start}&per_page={per_page}'\n",
    "download_url = 'https://dataverse.nl/api/access/dataset/:persistentId?persistentId=doi:{persistent_id}' "
   ]
  },
  {
   "cell_type": "code",
   "execution_count": 65,
   "id": "f1527363-005b-4303-843c-ef73ad38e411",
   "metadata": {
    "execution": {
     "iopub.execute_input": "2025-04-03T15:36:30.231328Z",
     "iopub.status.busy": "2025-04-03T15:36:30.230886Z",
     "iopub.status.idle": "2025-04-03T15:36:30.234227Z",
     "shell.execute_reply": "2025-04-03T15:36:30.233774Z",
     "shell.execute_reply.started": "2025-04-03T15:36:30.231306Z"
    }
   },
   "outputs": [
    {
     "name": "stdout",
     "output_type": "stream",
     "text": [
      "Search_url: https://dataverse.nl/api/search?q=subtree=stichtingring&type=dataset&start=0&per_page=2\n"
     ]
    }
   ],
   "source": [
    "url = search_url.format(start=0, per_page=2)\n",
    "print(f'Search_url: {url}')"
   ]
  },
  {
   "cell_type": "code",
   "execution_count": 66,
   "id": "70bdf636-d28e-4283-a7bb-85fcc86e8f58",
   "metadata": {
    "execution": {
     "iopub.execute_input": "2025-04-03T15:36:34.930389Z",
     "iopub.status.busy": "2025-04-03T15:36:34.930139Z",
     "iopub.status.idle": "2025-04-03T15:36:34.991224Z",
     "shell.execute_reply": "2025-04-03T15:36:34.990675Z",
     "shell.execute_reply.started": "2025-04-03T15:36:34.930368Z"
    }
   },
   "outputs": [
    {
     "data": {
      "text/plain": [
       "200"
      ]
     },
     "execution_count": 66,
     "metadata": {},
     "output_type": "execute_result"
    }
   ],
   "source": [
    "response = requests.get(url,  stream=True)\n",
    "response.status_code"
   ]
  },
  {
   "cell_type": "markdown",
   "id": "9ed5601b-088b-4723-b86f-8aa62279d42e",
   "metadata": {},
   "source": [
    "We can gain inspect the json encoded metadata that is returned for our search query: "
   ]
  },
  {
   "cell_type": "code",
   "execution_count": 68,
   "id": "487a5c37-e9aa-435b-aa84-b41c1888f1c7",
   "metadata": {
    "execution": {
     "iopub.execute_input": "2025-04-03T15:38:47.031932Z",
     "iopub.status.busy": "2025-04-03T15:38:47.031686Z",
     "iopub.status.idle": "2025-04-03T15:38:47.036717Z",
     "shell.execute_reply": "2025-04-03T15:38:47.036183Z",
     "shell.execute_reply.started": "2025-04-03T15:38:47.031911Z"
    }
   },
   "outputs": [
    {
     "data": {
      "text/plain": [
       "{'status': 'OK',\n",
       " 'data': {'q': 'subtree=stichtingring',\n",
       "  'total_count': 2366,\n",
       "  'start': 0,\n",
       "  'spelling_alternatives': {},\n",
       "  'items': [{'name': 'Waney-edge based felling dates in 1250-1700 CE established through dendrochronological research of archaeological and built heritage in The Netherlands',\n",
       "    'type': 'dataset',\n",
       "    'url': 'https://doi.org/10.34894/ZWBVSW',\n",
       "    'global_id': 'doi:10.34894/ZWBVSW',\n",
       "    'description': \"Waney-edge based felling dates in 1250-1700 CE established through dendrochronological research of archaeological and built heritage in The Netherlands. Further documentation of the research projects used for this overview can be found at https://dataverse.nl/dataverse/stichtingring by querying for the Laboratory Codes of individual measurement series (e.g. 'https://dataverse.nl/dataverse/stichtingring/?q=ikar0071')\",\n",
       "    'published_at': '2021-11-17T10:13:11Z',\n",
       "    'publisher': 'Stichting RING',\n",
       "    'citationHtml': 'Jansma, Esther, 2021, \"Waney-edge based felling dates in 1250-1700 CE established through dendrochronological research of archaeological and built heritage in The Netherlands\", <a href=\"https://doi.org/10.34894/ZWBVSW\" target=\"_blank\">https://doi.org/10.34894/ZWBVSW</a>, DataverseNL, V1',\n",
       "    'identifier_of_dataverse': 'stichtingring',\n",
       "    'name_of_dataverse': 'Stichting RING',\n",
       "    'citation': 'Jansma, Esther, 2021, \"Waney-edge based felling dates in 1250-1700 CE established through dendrochronological research of archaeological and built heritage in The Netherlands\", https://doi.org/10.34894/ZWBVSW, DataverseNL, V1',\n",
       "    'storageIdentifier': 'file://10.34894/ZWBVSW',\n",
       "    'subjects': ['Arts and Humanities'],\n",
       "    'fileCount': 1,\n",
       "    'versionId': 16445,\n",
       "    'versionState': 'RELEASED',\n",
       "    'majorVersion': 1,\n",
       "    'minorVersion': 1,\n",
       "    'createdAt': '2021-11-17T10:11:00Z',\n",
       "    'updatedAt': '2022-02-10T09:51:25Z',\n",
       "    'contacts': [{'name': 'Jansma, Esther',\n",
       "      'affiliation': 'Cultural Heritage Agency of the Netherlands'}],\n",
       "    'authors': ['Jansma, Esther']},\n",
       "   {'name': 'Valtherbrug (veenbrug) Valthe. Projectnummer dendrochronologie (Stichting RING): 1998008',\n",
       "    'type': 'dataset',\n",
       "    'url': 'https://doi.org/10.34894/GE6CZ2',\n",
       "    'global_id': 'doi:10.34894/GE6CZ2',\n",
       "    'description': 'Dendrochronological research project.',\n",
       "    'published_at': '2022-02-15T08:36:30Z',\n",
       "    'publisher': 'Stichting RING',\n",
       "    'citationHtml': 'Jansma, E., 2014, \"Valtherbrug (veenbrug) Valthe. Projectnummer dendrochronologie (Stichting RING): 1998008\", <a href=\"https://doi.org/10.34894/GE6CZ2\" target=\"_blank\">https://doi.org/10.34894/GE6CZ2</a>, DataverseNL, V2',\n",
       "    'identifier_of_dataverse': 'stichtingring',\n",
       "    'name_of_dataverse': 'Stichting RING',\n",
       "    'citation': 'Jansma, E., 2014, \"Valtherbrug (veenbrug) Valthe. Projectnummer dendrochronologie (Stichting RING): 1998008\", https://doi.org/10.34894/GE6CZ2, DataverseNL, V2',\n",
       "    'storageIdentifier': 'file://10.34894/GE6CZ2',\n",
       "    'subjects': ['Arts and Humanities', 'Earth and Environmental Sciences'],\n",
       "    'fileCount': 9,\n",
       "    'versionId': 27003,\n",
       "    'versionState': 'RELEASED',\n",
       "    'majorVersion': 2,\n",
       "    'minorVersion': 4,\n",
       "    'createdAt': '2021-09-25T11:25:29Z',\n",
       "    'updatedAt': '2024-03-27T11:23:18Z',\n",
       "    'contacts': [{'name': 'Jansma, E.', 'affiliation': 'Stichting RING'}],\n",
       "    'authors': ['Jansma, E.']}],\n",
       "  'count_in_response': 2}}"
      ]
     },
     "execution_count": 68,
     "metadata": {},
     "output_type": "execute_result"
    }
   ],
   "source": [
    "response.json()"
   ]
  },
  {
   "cell_type": "markdown",
   "id": "b542b247-b114-4b3e-aa71-c64ef7240fee",
   "metadata": {},
   "source": [
    "If we now want to check if we can actually download the files that belong to these datasets, we need to extract  the bare DOI codes. "
   ]
  },
  {
   "cell_type": "code",
   "execution_count": 73,
   "id": "1c306873-62ef-4169-9a1f-7867156baeb5",
   "metadata": {
    "execution": {
     "iopub.execute_input": "2025-04-03T15:47:43.462083Z",
     "iopub.status.busy": "2025-04-03T15:47:43.461812Z",
     "iopub.status.idle": "2025-04-03T15:47:43.466575Z",
     "shell.execute_reply": "2025-04-03T15:47:43.466030Z",
     "shell.execute_reply.started": "2025-04-03T15:47:43.462062Z"
    }
   },
   "outputs": [
    {
     "data": {
      "text/plain": [
       "['10.34894/ZWBVSW', '10.34894/GE6CZ2']"
      ]
     },
     "execution_count": 73,
     "metadata": {},
     "output_type": "execute_result"
    }
   ],
   "source": [
    "doi_list = [item['url'].replace('https://doi.org/', '') for item in response.json()['data']['items']]\n",
    "doi_list"
   ]
  },
  {
   "cell_type": "markdown",
   "id": "aa1790e3-439e-4b10-9fed-ed1d09fd4afd",
   "metadata": {},
   "source": [
    "The python code below "
   ]
  },
  {
   "cell_type": "code",
   "execution_count": 77,
   "id": "050ab833-b300-4656-9d23-5969cf1a3585",
   "metadata": {
    "execution": {
     "iopub.execute_input": "2025-04-03T16:04:42.145555Z",
     "iopub.status.busy": "2025-04-03T16:04:42.145314Z",
     "iopub.status.idle": "2025-04-03T16:04:42.414505Z",
     "shell.execute_reply": "2025-04-03T16:04:42.413943Z",
     "shell.execute_reply.started": "2025-04-03T16:04:42.145535Z"
    }
   },
   "outputs": [
    {
     "name": "stdout",
     "output_type": "stream",
     "text": [
      "\n",
      "Download url: https://dataverse.nl/api/access/dataset/:persistentId?persistentId=doi:10.34894/ZWBVSW\n",
      "Found these files: \n",
      "['Jansma 2021_Waney-edge based felling dates in 1250-1700 CE.xlsx', 'MANIFEST.TXT']\n",
      "\n",
      "Download url: https://dataverse.nl/api/access/dataset/:persistentId?persistentId=doi:10.34894/GE6CZ2\n",
      "Found these files: \n",
      "['Logbook 1998008 AVG.pdf', 'MANIFEST.TXT']\n"
     ]
    }
   ],
   "source": [
    "for doi in doi_list: \n",
    "    url = download_url.format(persistent_id=doi)\n",
    "    print()\n",
    "    print(f'Download url: {url}')\n",
    "    response = requests.get(url, stream=True)\n",
    "\n",
    "    if response.status_code == 200:\n",
    "        with zipfile.ZipFile(io.BytesIO(response.content)) as zip_file:\n",
    "            print('Found these files: ')\n",
    "            print(zip_file.namelist())\n",
    "    else: \n",
    "        print(f'Status_code={response.status_code}. Could not download files as zip. ')"
   ]
  },
  {
   "cell_type": "markdown",
   "id": "f5fa4cea-82b4-4940-9c7b-a5276a77e047",
   "metadata": {},
   "source": [
    "**Conclusion so far is that it should be straightforward to download all data files from Stichting RING.**"
   ]
  },
  {
   "attachments": {},
   "cell_type": "markdown",
   "id": "72a719ee-0a95-444f-93f3-8a8525dc4b64",
   "metadata": {
    "jp-MarkdownHeadingCollapsed": true
   },
   "source": [
    "## Downloading with the `curl` command line tool \n",
    "\n",
    "As explained by Laura the example command to query all dendro records, say between 1400-1800 with `curl` is this terminal command below. The json output can be captured like so in the `output.txt` file. \n",
    "\n",
    "    $ curl \"https://dataverse.nl/api/search?q=dccd-periodEnd%3A%5B1400%20TO%201800%5D&start=0&per_page=100&subtree=dccd&type=dataset&metadata_fields=dccd:*\" | jq > output.txt "
   ]
  },
  {
   "cell_type": "markdown",
   "id": "a0c12780-e30a-4366-af54-4cd76e22ca6f",
   "metadata": {
    "jp-MarkdownHeadingCollapsed": true
   },
   "source": [
    "## How about `easyDataverse`?"
   ]
  },
  {
   "cell_type": "markdown",
   "id": "74053d4a-3114-48b9-90f2-ccb022543273",
   "metadata": {},
   "source": [
    "**This is interesting! However, I do not see how to download all metadata this way.**"
   ]
  },
  {
   "cell_type": "markdown",
   "id": "18fcb183-2459-4f61-89b3-6d7bd93063ca",
   "metadata": {},
   "source": [
    "See: https://github.com/gdcc/easyDataverse and https://github.com/gdcc/easyDataverse/blob/main/examples/EasyDataverseBasics.ipynb"
   ]
  },
  {
   "cell_type": "markdown",
   "id": "cf4d0c24-9dc4-40b3-a6d9-99a5d673bd53",
   "metadata": {
    "execution": {
     "iopub.execute_input": "2025-04-01T15:04:12.765296Z",
     "iopub.status.busy": "2025-04-01T15:04:12.764946Z",
     "iopub.status.idle": "2025-04-01T15:04:19.739119Z",
     "shell.execute_reply": "2025-04-01T15:04:19.738431Z",
     "shell.execute_reply.started": "2025-04-01T15:04:12.765267Z"
    }
   },
   "source": [
    "%pip install easyDataverse"
   ]
  },
  {
   "cell_type": "code",
   "execution_count": 45,
   "id": "da09fe39-c643-4f90-b4be-7547d5b0b43a",
   "metadata": {
    "execution": {
     "iopub.execute_input": "2025-04-01T15:06:00.480421Z",
     "iopub.status.busy": "2025-04-01T15:06:00.480158Z",
     "iopub.status.idle": "2025-04-01T15:06:01.937728Z",
     "shell.execute_reply": "2025-04-01T15:06:01.937098Z",
     "shell.execute_reply.started": "2025-04-01T15:06:00.480394Z"
    }
   },
   "outputs": [],
   "source": [
    "from easyDataverse import Dataverse"
   ]
  },
  {
   "cell_type": "code",
   "execution_count": 52,
   "id": "5d17706d-9238-4146-9249-a6509f73465d",
   "metadata": {
    "execution": {
     "iopub.execute_input": "2025-04-01T15:27:06.381753Z",
     "iopub.status.busy": "2025-04-01T15:27:06.381513Z",
     "iopub.status.idle": "2025-04-01T15:27:06.646792Z",
     "shell.execute_reply": "2025-04-01T15:27:06.646377Z",
     "shell.execute_reply.started": "2025-04-01T15:27:06.381733Z"
    }
   },
   "outputs": [
    {
     "data": {
      "application/vnd.jupyter.widget-view+json": {
       "model_id": "53178a973f37450298a53ff4dfc4ddf3",
       "version_major": 2,
       "version_minor": 0
      },
      "text/plain": [
       "Output()"
      ]
     },
     "metadata": {},
     "output_type": "display_data"
    },
    {
     "name": "stdout",
     "output_type": "stream",
     "text": [
      "\n",
      "\n"
     ]
    },
    {
     "data": {
      "text/html": [
       "<pre style=\"white-space:pre;overflow-x:auto;line-height:normal;font-family:Menlo,'DejaVu Sans Mono',consolas,'Courier New',monospace\">🎉 <span style=\"font-weight: bold\">Connected to </span><span style=\"color: #008000; text-decoration-color: #008000; font-weight: bold\">'https://dataverse.nl/'</span>\n",
       "</pre>\n"
      ],
      "text/plain": [
       "🎉 \u001b[1mConnected to \u001b[0m\u001b[1;32m'https://dataverse.nl/'\u001b[0m\n"
      ]
     },
     "metadata": {},
     "output_type": "display_data"
    },
    {
     "data": {
      "text/html": [
       "<pre style=\"white-space:pre;overflow-x:auto;line-height:normal;font-family:Menlo,'DejaVu Sans Mono',consolas,'Courier New',monospace\"></pre>\n"
      ],
      "text/plain": []
     },
     "metadata": {},
     "output_type": "display_data"
    }
   ],
   "source": [
    "#dataverse = Dataverse(server_url='https://demo.dataverse.org')\n",
    "dataverse = Dataverse(server_url='https://dataverse.nl/')"
   ]
  },
  {
   "cell_type": "code",
   "execution_count": 55,
   "id": "a54c10b1-0eb7-4803-a633-578af29f4960",
   "metadata": {
    "execution": {
     "iopub.execute_input": "2025-04-01T15:31:04.525898Z",
     "iopub.status.busy": "2025-04-01T15:31:04.525655Z",
     "iopub.status.idle": "2025-04-01T15:31:04.529723Z",
     "shell.execute_reply": "2025-04-01T15:31:04.529236Z",
     "shell.execute_reply.started": "2025-04-01T15:31:04.525879Z"
    }
   },
   "outputs": [
    {
     "name": "stdout",
     "output_type": "stream",
     "text": [
      "geospatial\n",
      "socialscience\n",
      "astrophysics\n",
      "biomedical\n",
      "journal\n",
      "citation\n",
      "comrades-dcl-metadata\n",
      "dccd\n",
      "dansDataVaultMetadata\n"
     ]
    }
   ],
   "source": [
    "dataverse.list_metadatablocks(detailed=False)"
   ]
  },
  {
   "cell_type": "code",
   "execution_count": 56,
   "id": "c1293923-a9e6-426d-ae2d-8c02551ff92d",
   "metadata": {
    "execution": {
     "iopub.execute_input": "2025-04-01T15:31:15.034963Z",
     "iopub.status.busy": "2025-04-01T15:31:15.034717Z",
     "iopub.status.idle": "2025-04-01T15:31:15.039530Z",
     "shell.execute_reply": "2025-04-01T15:31:15.038945Z",
     "shell.execute_reply.started": "2025-04-01T15:31:15.034943Z"
    }
   },
   "outputs": [
    {
     "name": "stdout",
     "output_type": "stream",
     "text": [
      "metadatablocks: {}\n",
      "\n"
     ]
    }
   ],
   "source": [
    "dataset = dataverse.load_dataset() create_dataset()\n",
    "\n",
    "print(dataset) # Should be empty by now"
   ]
  },
  {
   "cell_type": "code",
   "execution_count": 57,
   "id": "98feba2b-28e3-4fb1-93e6-d0e6b1679170",
   "metadata": {
    "execution": {
     "iopub.execute_input": "2025-04-01T15:32:22.635592Z",
     "iopub.status.busy": "2025-04-01T15:32:22.635347Z",
     "iopub.status.idle": "2025-04-01T15:32:22.642069Z",
     "shell.execute_reply": "2025-04-01T15:32:22.641492Z",
     "shell.execute_reply.started": "2025-04-01T15:32:22.635572Z"
    }
   },
   "outputs": [
    {
     "data": {
      "text/html": [
       "<pre style=\"white-space:pre;overflow-x:auto;line-height:normal;font-family:Menlo,'DejaVu Sans Mono',consolas,'Courier New',monospace\"><span style=\"color: #00ffd7; text-decoration-color: #00ffd7; font-weight: bold\">Dccd</span>\n",
       "├── <span style=\"font-weight: bold\">dccdproject_type</span>: <span style=\"font-style: italic\">dccd-projectType</span>\n",
       "├── <span style=\"font-weight: bold\">dccdcategory</span>: <span style=\"font-style: italic\">dccd-category</span>\n",
       "├── <span style=\"font-weight: bold\">dccdprincipal_investigator</span>: <span style=\"font-style: italic\">str</span>\n",
       "├── <span style=\"font-weight: bold\">dccdobject_type</span>: <span style=\"font-style: italic\">dccd-objectType</span>\n",
       "├── <span style=\"font-weight: bold\">dccdelement_type</span>: <span style=\"font-style: italic\">dccd-elementType</span>\n",
       "├── <span style=\"font-weight: bold\">dccdtaxon</span>: <span style=\"font-style: italic\">dccd-taxon</span>\n",
       "├── <span style=\"font-weight: bold\">dccdlocation</span>: <span style=\"font-style: italic\">Location</span>\n",
       "│   ├── dccdlatitude\n",
       "│   ╰── dccdlongitude\n",
       "├── <span style=\"font-weight: bold\">dccdperiod</span>: <span style=\"font-style: italic\">TimePeriod</span>\n",
       "│   ├── start\n",
       "│   ╰── end\n",
       "╰── <span style=\"font-weight: bold; font-style: italic\">Add Functions</span>\n",
       "    ├── add_dccdlocation\n",
       "    ╰── add_dccdperiod\n",
       "</pre>\n"
      ],
      "text/plain": [
       "\u001b[1;38;5;50mDccd\u001b[0m\n",
       "├── \u001b[1mdccdproject_type\u001b[0m: \u001b[3mdccd-projectType\u001b[0m\n",
       "├── \u001b[1mdccdcategory\u001b[0m: \u001b[3mdccd-category\u001b[0m\n",
       "├── \u001b[1mdccdprincipal_investigator\u001b[0m: \u001b[3mstr\u001b[0m\n",
       "├── \u001b[1mdccdobject_type\u001b[0m: \u001b[3mdccd-objectType\u001b[0m\n",
       "├── \u001b[1mdccdelement_type\u001b[0m: \u001b[3mdccd-elementType\u001b[0m\n",
       "├── \u001b[1mdccdtaxon\u001b[0m: \u001b[3mdccd-taxon\u001b[0m\n",
       "├── \u001b[1mdccdlocation\u001b[0m: \u001b[3mLocation\u001b[0m\n",
       "│   ├── dccdlatitude\n",
       "│   ╰── dccdlongitude\n",
       "├── \u001b[1mdccdperiod\u001b[0m: \u001b[3mTimePeriod\u001b[0m\n",
       "│   ├── start\n",
       "│   ╰── end\n",
       "╰── \u001b[1;3mAdd Functions\u001b[0m\n",
       "    ├── add_dccdlocation\n",
       "    ╰── add_dccdperiod\n"
      ]
     },
     "metadata": {},
     "output_type": "display_data"
    }
   ],
   "source": [
    "dataset.dccd.info()"
   ]
  },
  {
   "cell_type": "code",
   "execution_count": 61,
   "id": "a3320515-5ddd-4772-9730-ab1dd4299e1e",
   "metadata": {
    "execution": {
     "iopub.execute_input": "2025-04-01T15:38:14.650061Z",
     "iopub.status.busy": "2025-04-01T15:38:14.649800Z",
     "iopub.status.idle": "2025-04-01T15:38:14.652814Z",
     "shell.execute_reply": "2025-04-01T15:38:14.652343Z",
     "shell.execute_reply.started": "2025-04-01T15:38:14.650040Z"
    }
   },
   "outputs": [],
   "source": []
  },
  {
   "cell_type": "markdown",
   "id": "24071645-5a38-4753-bfe0-d04bc28c111f",
   "metadata": {
    "jp-MarkdownHeadingCollapsed": true
   },
   "source": [
    "## How about `pyDataverse` python package? \n",
    "\n",
    "**This seems outdated and no longer supported.**"
   ]
  },
  {
   "cell_type": "markdown",
   "id": "33d4c052-d495-453f-908a-e2a4fb9d8edb",
   "metadata": {},
   "source": [
    "Let's also try to use the `pyDataverse` package for downloading data. \n",
    "\n",
    "See: https://pydataverse.readthedocs.io/en/latest/user/basic-usage.html#download-and-save-a-dataset-to-disk"
   ]
  },
  {
   "cell_type": "markdown",
   "id": "14a24743-1461-4b42-962b-01b030abecf6",
   "metadata": {
    "execution": {
     "iopub.execute_input": "2025-03-31T14:44:13.554019Z",
     "iopub.status.busy": "2025-03-31T14:44:13.553668Z",
     "iopub.status.idle": "2025-03-31T14:44:16.223798Z",
     "shell.execute_reply": "2025-03-31T14:44:16.223044Z",
     "shell.execute_reply.started": "2025-03-31T14:44:13.553986Z"
    }
   },
   "source": [
    "%pip install -U pyDataverse"
   ]
  },
  {
   "cell_type": "code",
   "execution_count": 2,
   "id": "a61b70e4-6453-4c37-9091-5527c2dd2682",
   "metadata": {
    "execution": {
     "iopub.execute_input": "2025-03-31T14:45:35.601768Z",
     "iopub.status.busy": "2025-03-31T14:45:35.601496Z",
     "iopub.status.idle": "2025-03-31T14:45:36.287966Z",
     "shell.execute_reply": "2025-03-31T14:45:36.287388Z",
     "shell.execute_reply.started": "2025-03-31T14:45:35.601740Z"
    }
   },
   "outputs": [],
   "source": [
    "from pyDataverse.api import NativeApi, DataAccessApi\n",
    "from pyDataverse.models import Dataverse "
   ]
  },
  {
   "cell_type": "code",
   "execution_count": 22,
   "id": "f2fccd2c-f6a1-4b5d-9c1c-2efe5eb95739",
   "metadata": {
    "execution": {
     "iopub.execute_input": "2025-03-31T15:08:19.829920Z",
     "iopub.status.busy": "2025-03-31T15:08:19.829770Z",
     "iopub.status.idle": "2025-03-31T15:08:19.833013Z",
     "shell.execute_reply": "2025-03-31T15:08:19.832527Z",
     "shell.execute_reply.started": "2025-03-31T15:08:19.829910Z"
    }
   },
   "outputs": [],
   "source": [
    "#base_url = 'https://dataverse.harvard.ed'\n",
    "base_url = 'https://dataverse.nl'\n",
    "api = NativeApi(base_url, api_version='v1')\n",
    "data_api = DataAccessApi(base_url)"
   ]
  },
  {
   "cell_type": "code",
   "execution_count": 23,
   "id": "f2dc7e1a-4ea9-4c03-a07b-140f0edeae81",
   "metadata": {
    "execution": {
     "iopub.execute_input": "2025-03-31T15:08:21.287359Z",
     "iopub.status.busy": "2025-03-31T15:08:21.286785Z",
     "iopub.status.idle": "2025-03-31T15:08:21.419869Z",
     "shell.execute_reply": "2025-03-31T15:08:21.419251Z",
     "shell.execute_reply.started": "2025-03-31T15:08:21.287338Z"
    }
   },
   "outputs": [],
   "source": [
    "#DOI = \"doi:10.7910/DVN/KBHLOD\"\n",
    "DOI = 'doi:10.34894/MSBW8A'\n",
    "dataset = api.get_dataset(DOI)\n"
   ]
  },
  {
   "cell_type": "code",
   "execution_count": 24,
   "id": "196f541e-a5f0-4a48-a8c5-d081617bf4ca",
   "metadata": {
    "execution": {
     "iopub.execute_input": "2025-03-31T15:08:22.213698Z",
     "iopub.status.busy": "2025-03-31T15:08:22.213457Z",
     "iopub.status.idle": "2025-03-31T15:08:22.216778Z",
     "shell.execute_reply": "2025-03-31T15:08:22.216273Z",
     "shell.execute_reply.started": "2025-03-31T15:08:22.213679Z"
    }
   },
   "outputs": [],
   "source": [
    "files_list = dataset.json()['data']['latestVersion']['files']"
   ]
  },
  {
   "cell_type": "code",
   "execution_count": 25,
   "id": "88d3d276-45e6-4ab8-8f33-2cafa86c9672",
   "metadata": {
    "execution": {
     "iopub.execute_input": "2025-03-31T15:08:23.253660Z",
     "iopub.status.busy": "2025-03-31T15:08:23.253090Z",
     "iopub.status.idle": "2025-03-31T15:08:23.257881Z",
     "shell.execute_reply": "2025-03-31T15:08:23.257366Z",
     "shell.execute_reply.started": "2025-03-31T15:08:23.253633Z"
    }
   },
   "outputs": [
    {
     "data": {
      "text/plain": [
       "[{'description': 'Lab logbook',\n",
       "  'label': '2016003 Dorestad D16 Logboek.pdf',\n",
       "  'restricted': False,\n",
       "  'version': 1,\n",
       "  'datasetVersionId': 29311,\n",
       "  'dataFile': {'id': 376393,\n",
       "   'persistentId': '',\n",
       "   'filename': '2016003 Dorestad D16 Logboek.pdf',\n",
       "   'contentType': 'application/pdf',\n",
       "   'friendlyType': 'Adobe PDF',\n",
       "   'filesize': 2951413,\n",
       "   'description': 'Lab logbook',\n",
       "   'storageIdentifier': 'file://1894e4bf037-544cfdd49456',\n",
       "   'rootDataFileId': -1,\n",
       "   'md5': '3ceeb18fe19526d0823e4128c805f14c',\n",
       "   'checksum': {'type': 'MD5', 'value': '3ceeb18fe19526d0823e4128c805f14c'},\n",
       "   'tabularData': False,\n",
       "   'creationDate': '2023-07-13',\n",
       "   'publicationDate': '2023-07-13',\n",
       "   'fileAccessRequest': False}},\n",
       " {'description': 'Measurement series in stacked Heidelberg format',\n",
       "  'label': '2016003 Dorestad meetreeksen 1 tot en met 10.fh',\n",
       "  'restricted': False,\n",
       "  'version': 1,\n",
       "  'datasetVersionId': 29311,\n",
       "  'dataFile': {'id': 376394,\n",
       "   'persistentId': '',\n",
       "   'filename': '2016003 Dorestad meetreeksen 1 tot en met 10.fh',\n",
       "   'contentType': 'image/x-freehand',\n",
       "   'friendlyType': 'image/x-freehand',\n",
       "   'filesize': 8126,\n",
       "   'description': 'Measurement series in stacked Heidelberg format',\n",
       "   'storageIdentifier': 'file://1894e4bf090-6cca7bcd1ecf',\n",
       "   'rootDataFileId': -1,\n",
       "   'md5': '056b4d46e62cde4201dac14bf9785975',\n",
       "   'checksum': {'type': 'MD5', 'value': '056b4d46e62cde4201dac14bf9785975'},\n",
       "   'tabularData': False,\n",
       "   'creationDate': '2023-07-13',\n",
       "   'publicationDate': '2023-07-13',\n",
       "   'fileAccessRequest': False}}]"
      ]
     },
     "execution_count": 25,
     "metadata": {},
     "output_type": "execute_result"
    }
   ],
   "source": [
    "files_list"
   ]
  },
  {
   "cell_type": "code",
   "execution_count": 15,
   "id": "14c4f2a8-b296-4da8-863c-b50832a9a11c",
   "metadata": {
    "execution": {
     "iopub.execute_input": "2025-03-31T15:00:33.288978Z",
     "iopub.status.busy": "2025-03-31T15:00:33.288737Z",
     "iopub.status.idle": "2025-03-31T15:00:33.463662Z",
     "shell.execute_reply": "2025-03-31T15:00:33.463075Z",
     "shell.execute_reply.started": "2025-03-31T15:00:33.288958Z"
    }
   },
   "outputs": [
    {
     "name": "stdout",
     "output_type": "stream",
     "text": [
      "File name 2016003 Dorestad D16 Logboek.pdf, id 376393\n",
      "File name 2016003 Dorestad meetreeksen 1 tot en met 10.fh, id 376394\n"
     ]
    }
   ],
   "source": [
    "for file in files_list:\n",
    "    filename = file[\"dataFile\"][\"filename\"]\n",
    "    file_id = file[\"dataFile\"][\"id\"]\n",
    "    print(\"File name {}, id {}\".format(filename, file_id))\n",
    "    response = data_api.get_datafile(file_id)\n",
    "    with open(filename, \"wb\") as f:\n",
    "        f.write(response.content)"
   ]
  },
  {
   "cell_type": "markdown",
   "id": "26d9eb13-c6cb-4aa8-a371-a2a469bbe93a",
   "metadata": {},
   "source": [
    "Almost there. Unfortunately these files are just text files that contain an error message: \n",
    "\n",
    "    {\"status\":\"ERROR\",\"code\":404,\"message\":\"API endpoint does not exist on this server. Please check your code for typos, or consult our API guide at http://guides.dataverse.org.\",\"requestUrl\":\"https://dataverse.nl/api/v1/access/datafile/:persistentId/?persistentId=376393\",\"requestMethod\":\"GET\"}"
   ]
  },
  {
   "cell_type": "code",
   "execution_count": 27,
   "id": "ec1fbc7a-efa6-4499-9c88-ce7b2e2a5d84",
   "metadata": {
    "execution": {
     "iopub.execute_input": "2025-03-31T15:11:54.874520Z",
     "iopub.status.busy": "2025-03-31T15:11:54.874274Z",
     "iopub.status.idle": "2025-03-31T15:11:54.877067Z",
     "shell.execute_reply": "2025-03-31T15:11:54.876630Z",
     "shell.execute_reply.started": "2025-03-31T15:11:54.874499Z"
    }
   },
   "outputs": [],
   "source": [
    "#data_api??"
   ]
  },
  {
   "cell_type": "code",
   "execution_count": null,
   "id": "226731d8-80d5-4d08-a7b1-b0d1fcd60981",
   "metadata": {},
   "outputs": [],
   "source": []
  }
 ],
 "metadata": {
  "kernelspec": {
   "display_name": "Python 3 (ipykernel)",
   "language": "python",
   "name": "python3"
  },
  "language_info": {
   "codemirror_mode": {
    "name": "ipython",
    "version": 3
   },
   "file_extension": ".py",
   "mimetype": "text/x-python",
   "name": "python",
   "nbconvert_exporter": "python",
   "pygments_lexer": "ipython3",
   "version": "3.11.7"
  },
  "widgets": {
   "application/vnd.jupyter.widget-state+json": {
    "state": {},
    "version_major": 2,
    "version_minor": 0
   }
  }
 },
 "nbformat": 4,
 "nbformat_minor": 5
}
